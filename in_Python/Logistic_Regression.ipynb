{
  "nbformat": 4,
  "nbformat_minor": 0,
  "metadata": {
    "colab": {
      "name": "Logistic_Regression.ipynb",
      "provenance": [],
      "collapsed_sections": [],
      "mount_file_id": "1RYZiNZlmH0nprVzAXcCEvXuGQaKHjLNv",
      "authorship_tag": "ABX9TyNNVpp++N6XNdtt2cFX1YuS",
      "include_colab_link": true
    },
    "kernelspec": {
      "name": "python3",
      "display_name": "Python 3"
    }
  },
  "cells": [
    {
      "cell_type": "markdown",
      "metadata": {
        "id": "view-in-github",
        "colab_type": "text"
      },
      "source": [
        "<a href=\"https://colab.research.google.com/github/EmilSeyfullayev/Bank_Loan_Default_prediction/blob/master/in_Python/Logistic_Regression.ipynb\" target=\"_parent\"><img src=\"https://colab.research.google.com/assets/colab-badge.svg\" alt=\"Open In Colab\"/></a>"
      ]
    },
    {
      "cell_type": "code",
      "metadata": {
        "id": "Yztcuqt_Acqy",
        "colab_type": "code",
        "colab": {
          "base_uri": "https://localhost:8080/",
          "height": 72
        },
        "outputId": "6dc42ea7-e5cb-4047-a89a-6aa6fa1d8833"
      },
      "source": [
        "import pandas as pd\n",
        "import numpy as np\n",
        "import matplotlib.pyplot as plt\n",
        "import seaborn as sns\n",
        "sns.set()\n",
        "sns.set_style('whitegrid')"
      ],
      "execution_count": null,
      "outputs": [
        {
          "output_type": "stream",
          "text": [
            "/usr/local/lib/python3.6/dist-packages/statsmodels/tools/_testing.py:19: FutureWarning: pandas.util.testing is deprecated. Use the functions in the public API at pandas.testing instead.\n",
            "  import pandas.util.testing as tm\n"
          ],
          "name": "stderr"
        }
      ]
    },
    {
      "cell_type": "code",
      "metadata": {
        "id": "M-wEyMHYBAnh",
        "colab_type": "code",
        "colab": {}
      },
      "source": [
        "df = pd.read_csv('/content/drive/My Drive/Colab Notebooks/Credit Risk Modeling/df.csv')"
      ],
      "execution_count": null,
      "outputs": []
    },
    {
      "cell_type": "code",
      "metadata": {
        "id": "c6hxMZ_vBK_g",
        "colab_type": "code",
        "colab": {}
      },
      "source": [
        "df.drop(['Unnamed: 0', 'ID'], inplace=True, axis=1)"
      ],
      "execution_count": null,
      "outputs": []
    },
    {
      "cell_type": "code",
      "metadata": {
        "id": "ee1twvWFBqT0",
        "colab_type": "code",
        "colab": {}
      },
      "source": [
        "names = df.columns"
      ],
      "execution_count": null,
      "outputs": []
    },
    {
      "cell_type": "code",
      "metadata": {
        "id": "-OVj-p-PDS9n",
        "colab_type": "code",
        "colab": {
          "base_uri": "https://localhost:8080/",
          "height": 35
        },
        "outputId": "e90da60f-3598-4d4d-cda7-65a5f7aa2f2d"
      },
      "source": [
        "df.shape"
      ],
      "execution_count": null,
      "outputs": [
        {
          "output_type": "execute_result",
          "data": {
            "text/plain": [
              "(465839, 35)"
            ]
          },
          "metadata": {
            "tags": []
          },
          "execution_count": 5
        }
      ]
    },
    {
      "cell_type": "code",
      "metadata": {
        "id": "buPo5lnGC3ku",
        "colab_type": "code",
        "colab": {}
      },
      "source": [
        "l = []\n",
        "\n",
        "for i in names:\n",
        "   l.append(df[i].value_counts().shape[0])"
      ],
      "execution_count": null,
      "outputs": []
    },
    {
      "cell_type": "code",
      "metadata": {
        "id": "jPEKT7sSC5PP",
        "colab_type": "code",
        "colab": {}
      },
      "source": [
        "val_count = pd.concat([pd.Series(names), pd.Series(l)], axis=1)"
      ],
      "execution_count": null,
      "outputs": []
    },
    {
      "cell_type": "code",
      "metadata": {
        "id": "OhsMSd8KC51-",
        "colab_type": "code",
        "colab": {}
      },
      "source": [
        "val_count = val_count.sort_values(by=[1]).reset_index(drop=True)"
      ],
      "execution_count": null,
      "outputs": []
    },
    {
      "cell_type": "code",
      "metadata": {
        "id": "df9ebSQCC5-k",
        "colab_type": "code",
        "colab": {
          "base_uri": "https://localhost:8080/",
          "height": 1000
        },
        "outputId": "ce971e79-a4d8-4bd0-ee21-9a5cfed8952c"
      },
      "source": [
        "val_count"
      ],
      "execution_count": null,
      "outputs": [
        {
          "output_type": "execute_result",
          "data": {
            "text/html": [
              "<div>\n",
              "<style scoped>\n",
              "    .dataframe tbody tr th:only-of-type {\n",
              "        vertical-align: middle;\n",
              "    }\n",
              "\n",
              "    .dataframe tbody tr th {\n",
              "        vertical-align: top;\n",
              "    }\n",
              "\n",
              "    .dataframe thead th {\n",
              "        text-align: right;\n",
              "    }\n",
              "</style>\n",
              "<table border=\"1\" class=\"dataframe\">\n",
              "  <thead>\n",
              "    <tr style=\"text-align: right;\">\n",
              "      <th></th>\n",
              "      <th>0</th>\n",
              "      <th>1</th>\n",
              "    </tr>\n",
              "  </thead>\n",
              "  <tbody>\n",
              "    <tr>\n",
              "      <th>0</th>\n",
              "      <td>tot_coll_amt</td>\n",
              "      <td>2</td>\n",
              "    </tr>\n",
              "    <tr>\n",
              "      <th>1</th>\n",
              "      <td>out_prncp_inv</td>\n",
              "      <td>2</td>\n",
              "    </tr>\n",
              "    <tr>\n",
              "      <th>2</th>\n",
              "      <td>term</td>\n",
              "      <td>2</td>\n",
              "    </tr>\n",
              "    <tr>\n",
              "      <th>3</th>\n",
              "      <td>out_prncp</td>\n",
              "      <td>2</td>\n",
              "    </tr>\n",
              "    <tr>\n",
              "      <th>4</th>\n",
              "      <td>initial_list_status</td>\n",
              "      <td>2</td>\n",
              "    </tr>\n",
              "    <tr>\n",
              "      <th>5</th>\n",
              "      <td>pymnt_plan</td>\n",
              "      <td>2</td>\n",
              "    </tr>\n",
              "    <tr>\n",
              "      <th>6</th>\n",
              "      <td>loan_status</td>\n",
              "      <td>2</td>\n",
              "    </tr>\n",
              "    <tr>\n",
              "      <th>7</th>\n",
              "      <td>verification_status</td>\n",
              "      <td>3</td>\n",
              "    </tr>\n",
              "    <tr>\n",
              "      <th>8</th>\n",
              "      <td>inq_last_6mths</td>\n",
              "      <td>4</td>\n",
              "    </tr>\n",
              "    <tr>\n",
              "      <th>9</th>\n",
              "      <td>home_ownership</td>\n",
              "      <td>4</td>\n",
              "    </tr>\n",
              "    <tr>\n",
              "      <th>10</th>\n",
              "      <td>zip_class</td>\n",
              "      <td>7</td>\n",
              "    </tr>\n",
              "    <tr>\n",
              "      <th>11</th>\n",
              "      <td>grade</td>\n",
              "      <td>7</td>\n",
              "    </tr>\n",
              "    <tr>\n",
              "      <th>12</th>\n",
              "      <td>emp_length</td>\n",
              "      <td>11</td>\n",
              "    </tr>\n",
              "    <tr>\n",
              "      <th>13</th>\n",
              "      <td>purpose</td>\n",
              "      <td>14</td>\n",
              "    </tr>\n",
              "    <tr>\n",
              "      <th>14</th>\n",
              "      <td>open_acc</td>\n",
              "      <td>24</td>\n",
              "    </tr>\n",
              "    <tr>\n",
              "      <th>15</th>\n",
              "      <td>sub_grade</td>\n",
              "      <td>35</td>\n",
              "    </tr>\n",
              "    <tr>\n",
              "      <th>16</th>\n",
              "      <td>addr_state</td>\n",
              "      <td>50</td>\n",
              "    </tr>\n",
              "    <tr>\n",
              "      <th>17</th>\n",
              "      <td>total_acc</td>\n",
              "      <td>55</td>\n",
              "    </tr>\n",
              "    <tr>\n",
              "      <th>18</th>\n",
              "      <td>Months_past_first_cr</td>\n",
              "      <td>361</td>\n",
              "    </tr>\n",
              "    <tr>\n",
              "      <th>19</th>\n",
              "      <td>int_rate</td>\n",
              "      <td>496</td>\n",
              "    </tr>\n",
              "    <tr>\n",
              "      <th>20</th>\n",
              "      <td>revol_util</td>\n",
              "      <td>1251</td>\n",
              "    </tr>\n",
              "    <tr>\n",
              "      <th>21</th>\n",
              "      <td>loan_amnt</td>\n",
              "      <td>1352</td>\n",
              "    </tr>\n",
              "    <tr>\n",
              "      <th>22</th>\n",
              "      <td>funded_amnt</td>\n",
              "      <td>1354</td>\n",
              "    </tr>\n",
              "    <tr>\n",
              "      <th>23</th>\n",
              "      <td>dti</td>\n",
              "      <td>3989</td>\n",
              "    </tr>\n",
              "    <tr>\n",
              "      <th>24</th>\n",
              "      <td>funded_amnt_inv</td>\n",
              "      <td>9853</td>\n",
              "    </tr>\n",
              "    <tr>\n",
              "      <th>25</th>\n",
              "      <td>total_rev_hi_lim</td>\n",
              "      <td>10196</td>\n",
              "    </tr>\n",
              "    <tr>\n",
              "      <th>26</th>\n",
              "      <td>annual_inc</td>\n",
              "      <td>30369</td>\n",
              "    </tr>\n",
              "    <tr>\n",
              "      <th>27</th>\n",
              "      <td>revol_bal</td>\n",
              "      <td>40324</td>\n",
              "    </tr>\n",
              "    <tr>\n",
              "      <th>28</th>\n",
              "      <td>installment</td>\n",
              "      <td>53724</td>\n",
              "    </tr>\n",
              "    <tr>\n",
              "      <th>29</th>\n",
              "      <td>last_pymnt_amnt</td>\n",
              "      <td>131259</td>\n",
              "    </tr>\n",
              "    <tr>\n",
              "      <th>30</th>\n",
              "      <td>total_rec_prncp</td>\n",
              "      <td>170813</td>\n",
              "    </tr>\n",
              "    <tr>\n",
              "      <th>31</th>\n",
              "      <td>tot_cur_bal</td>\n",
              "      <td>200387</td>\n",
              "    </tr>\n",
              "    <tr>\n",
              "      <th>32</th>\n",
              "      <td>total_rec_int</td>\n",
              "      <td>243427</td>\n",
              "    </tr>\n",
              "    <tr>\n",
              "      <th>33</th>\n",
              "      <td>total_pymnt</td>\n",
              "      <td>327800</td>\n",
              "    </tr>\n",
              "    <tr>\n",
              "      <th>34</th>\n",
              "      <td>total_pymnt_inv</td>\n",
              "      <td>328734</td>\n",
              "    </tr>\n",
              "  </tbody>\n",
              "</table>\n",
              "</div>"
            ],
            "text/plain": [
              "                       0       1\n",
              "0           tot_coll_amt       2\n",
              "1          out_prncp_inv       2\n",
              "2                   term       2\n",
              "3              out_prncp       2\n",
              "4    initial_list_status       2\n",
              "5             pymnt_plan       2\n",
              "6            loan_status       2\n",
              "7    verification_status       3\n",
              "8         inq_last_6mths       4\n",
              "9         home_ownership       4\n",
              "10             zip_class       7\n",
              "11                 grade       7\n",
              "12            emp_length      11\n",
              "13               purpose      14\n",
              "14              open_acc      24\n",
              "15             sub_grade      35\n",
              "16            addr_state      50\n",
              "17             total_acc      55\n",
              "18  Months_past_first_cr     361\n",
              "19              int_rate     496\n",
              "20            revol_util    1251\n",
              "21             loan_amnt    1352\n",
              "22           funded_amnt    1354\n",
              "23                   dti    3989\n",
              "24       funded_amnt_inv    9853\n",
              "25      total_rev_hi_lim   10196\n",
              "26            annual_inc   30369\n",
              "27             revol_bal   40324\n",
              "28           installment   53724\n",
              "29       last_pymnt_amnt  131259\n",
              "30       total_rec_prncp  170813\n",
              "31           tot_cur_bal  200387\n",
              "32         total_rec_int  243427\n",
              "33           total_pymnt  327800\n",
              "34       total_pymnt_inv  328734"
            ]
          },
          "metadata": {
            "tags": []
          },
          "execution_count": 9
        }
      ]
    },
    {
      "cell_type": "code",
      "metadata": {
        "id": "nx8dLONMDfFo",
        "colab_type": "code",
        "colab": {
          "base_uri": "https://localhost:8080/",
          "height": 69
        },
        "outputId": "a8d10c0e-3d1e-44ce-af9c-2945d1b4b1fe"
      },
      "source": [
        " val_count.iloc[:,0][7:17].values"
      ],
      "execution_count": null,
      "outputs": [
        {
          "output_type": "execute_result",
          "data": {
            "text/plain": [
              "array(['verification_status', 'inq_last_6mths', 'home_ownership',\n",
              "       'zip_class', 'grade', 'emp_length', 'purpose', 'open_acc',\n",
              "       'sub_grade', 'addr_state'], dtype=object)"
            ]
          },
          "metadata": {
            "tags": []
          },
          "execution_count": 12
        }
      ]
    },
    {
      "cell_type": "code",
      "metadata": {
        "id": "e2QWvPJyGWuP",
        "colab_type": "code",
        "colab": {}
      },
      "source": [
        "#We will convert to dummies [7-17] variables #not binary categorical, nor numeric\n",
        "to_dummies = val_count.iloc[:,0][7:17].values"
      ],
      "execution_count": null,
      "outputs": []
    },
    {
      "cell_type": "code",
      "metadata": {
        "id": "ZaR8jK9TQW3P",
        "colab_type": "code",
        "colab": {}
      },
      "source": [
        "dummy_frame = pd.get_dummies(df[to_dummies], drop_first=True)"
      ],
      "execution_count": null,
      "outputs": []
    },
    {
      "cell_type": "code",
      "metadata": {
        "id": "Z9k6dmvtQztr",
        "colab_type": "code",
        "colab": {
          "base_uri": "https://localhost:8080/",
          "height": 35
        },
        "outputId": "a2fc8da4-3b01-4611-faae-932975df0e44"
      },
      "source": [
        "dummy_frame.shape"
      ],
      "execution_count": null,
      "outputs": [
        {
          "output_type": "execute_result",
          "data": {
            "text/plain": [
              "(465839, 118)"
            ]
          },
          "metadata": {
            "tags": []
          },
          "execution_count": 11
        }
      ]
    },
    {
      "cell_type": "code",
      "metadata": {
        "id": "x8fqBDX5Embj",
        "colab_type": "code",
        "colab": {
          "base_uri": "https://localhost:8080/",
          "height": 52
        },
        "outputId": "f7625afb-dad0-4caa-fd85-4ee5445b7f05"
      },
      "source": [
        "val_count.iloc[:,0][0:7].values #df1"
      ],
      "execution_count": null,
      "outputs": [
        {
          "output_type": "execute_result",
          "data": {
            "text/plain": [
              "array(['tot_coll_amt', 'out_prncp_inv', 'term', 'out_prncp',\n",
              "       'initial_list_status', 'pymnt_plan', 'loan_status'], dtype=object)"
            ]
          },
          "metadata": {
            "tags": []
          },
          "execution_count": 17
        }
      ]
    },
    {
      "cell_type": "code",
      "metadata": {
        "id": "a_AQhelzFRFq",
        "colab_type": "code",
        "colab": {
          "base_uri": "https://localhost:8080/",
          "height": 104
        },
        "outputId": "3822ff8e-28f4-41b2-9010-06d6c2593d4c"
      },
      "source": [
        "val_count.iloc[:,0][17:].values#df2"
      ],
      "execution_count": null,
      "outputs": [
        {
          "output_type": "execute_result",
          "data": {
            "text/plain": [
              "array(['total_acc', 'Months_past_first_cr', 'int_rate', 'revol_util',\n",
              "       'loan_amnt', 'funded_amnt', 'dti', 'funded_amnt_inv',\n",
              "       'total_rev_hi_lim', 'annual_inc', 'revol_bal', 'installment',\n",
              "       'last_pymnt_amnt', 'total_rec_prncp', 'tot_cur_bal',\n",
              "       'total_rec_int', 'total_pymnt', 'total_pymnt_inv'], dtype=object)"
            ]
          },
          "metadata": {
            "tags": []
          },
          "execution_count": 20
        }
      ]
    },
    {
      "cell_type": "code",
      "metadata": {
        "id": "kGOmETcRRiFV",
        "colab_type": "code",
        "colab": {}
      },
      "source": [
        "#from 7 to 10 we have dummy variables\n",
        "df1 = df[val_count.iloc[:,0][0:7].values]\n",
        "df2 = df[val_count.iloc[:,0][17:].values]\n",
        "df3 = dummy_frame"
      ],
      "execution_count": null,
      "outputs": []
    },
    {
      "cell_type": "code",
      "metadata": {
        "id": "HRek8nHURn_v",
        "colab_type": "code",
        "colab": {}
      },
      "source": [
        "final_data = pd.concat([df1, df2, df3], axis=1)"
      ],
      "execution_count": null,
      "outputs": []
    },
    {
      "cell_type": "code",
      "metadata": {
        "id": "ZtSQT5WjS7FS",
        "colab_type": "code",
        "colab": {
          "base_uri": "https://localhost:8080/",
          "height": 35
        },
        "outputId": "d39799d5-d754-45e1-b584-5379d366d249"
      },
      "source": [
        "final_data.shape"
      ],
      "execution_count": null,
      "outputs": [
        {
          "output_type": "execute_result",
          "data": {
            "text/plain": [
              "(465839, 136)"
            ]
          },
          "metadata": {
            "tags": []
          },
          "execution_count": 23
        }
      ]
    },
    {
      "cell_type": "code",
      "metadata": {
        "id": "TXR1joKiF2Wb",
        "colab_type": "code",
        "colab": {}
      },
      "source": [
        "final_data.to_csv(\"/content/drive/My Drive/Colab Notebooks/Credit Risk Modeling.df_with_dummies.csv\")"
      ],
      "execution_count": null,
      "outputs": []
    },
    {
      "cell_type": "code",
      "metadata": {
        "id": "dbMtKq9ES9bF",
        "colab_type": "code",
        "colab": {}
      },
      "source": [
        "chpoint_1 = df"
      ],
      "execution_count": null,
      "outputs": []
    },
    {
      "cell_type": "code",
      "metadata": {
        "id": "KAOgWuPRTJU3",
        "colab_type": "code",
        "colab": {}
      },
      "source": [
        "df = final_data"
      ],
      "execution_count": null,
      "outputs": []
    },
    {
      "cell_type": "code",
      "metadata": {
        "id": "_HKYCt6BTLhX",
        "colab_type": "code",
        "colab": {}
      },
      "source": [
        "from sklearn.linear_model import LogisticRegression"
      ],
      "execution_count": null,
      "outputs": []
    },
    {
      "cell_type": "code",
      "metadata": {
        "id": "IZP9O5RETUdu",
        "colab_type": "code",
        "colab": {}
      },
      "source": [
        "model = LogisticRegression()"
      ],
      "execution_count": null,
      "outputs": []
    },
    {
      "cell_type": "code",
      "metadata": {
        "id": "6q5krYmLTXOC",
        "colab_type": "code",
        "colab": {}
      },
      "source": [
        "from sklearn.model_selection import train_test_split"
      ],
      "execution_count": null,
      "outputs": []
    },
    {
      "cell_type": "code",
      "metadata": {
        "id": "X0lA3jDwTlzo",
        "colab_type": "code",
        "colab": {}
      },
      "source": [
        "df.drop(['initial_list_status'], axis=1, inplace=True)\n",
        "#this variable was not converted to dummy\n",
        "y = df['loan_status']\n",
        "X = df.drop(['loan_status'], axis=1)"
      ],
      "execution_count": null,
      "outputs": []
    },
    {
      "cell_type": "code",
      "metadata": {
        "id": "QKUO_DGsZwAQ",
        "colab_type": "code",
        "colab": {}
      },
      "source": [
        "#save file to drive\n",
        "df.to_csv('/content/drive/My Drive/Colab Notebooks/Credit Risk Modeling/df_with_dummies.csv')"
      ],
      "execution_count": null,
      "outputs": []
    },
    {
      "cell_type": "code",
      "metadata": {
        "id": "oHX3woSaTbNP",
        "colab_type": "code",
        "colab": {}
      },
      "source": [
        "X_train, X_test, y_train, y_test = train_test_split(X, y, test_size=0.2, random_state=42)"
      ],
      "execution_count": null,
      "outputs": []
    },
    {
      "cell_type": "code",
      "metadata": {
        "id": "RZrqRw5VT3RT",
        "colab_type": "code",
        "colab": {
          "base_uri": "https://localhost:8080/",
          "height": 242
        },
        "outputId": "a3a45fc9-66d6-42c6-f671-47053a8a3fd6"
      },
      "source": [
        "model.fit(X_train, y_train)"
      ],
      "execution_count": null,
      "outputs": [
        {
          "output_type": "stream",
          "text": [
            "/usr/local/lib/python3.6/dist-packages/sklearn/linear_model/_logistic.py:940: ConvergenceWarning: lbfgs failed to converge (status=1):\n",
            "STOP: TOTAL NO. of ITERATIONS REACHED LIMIT.\n",
            "\n",
            "Increase the number of iterations (max_iter) or scale the data as shown in:\n",
            "    https://scikit-learn.org/stable/modules/preprocessing.html\n",
            "Please also refer to the documentation for alternative solver options:\n",
            "    https://scikit-learn.org/stable/modules/linear_model.html#logistic-regression\n",
            "  extra_warning_msg=_LOGISTIC_SOLVER_CONVERGENCE_MSG)\n"
          ],
          "name": "stderr"
        },
        {
          "output_type": "execute_result",
          "data": {
            "text/plain": [
              "LogisticRegression(C=1.0, class_weight=None, dual=False, fit_intercept=True,\n",
              "                   intercept_scaling=1, l1_ratio=None, max_iter=100,\n",
              "                   multi_class='auto', n_jobs=None, penalty='l2',\n",
              "                   random_state=None, solver='lbfgs', tol=0.0001, verbose=0,\n",
              "                   warm_start=False)"
            ]
          },
          "metadata": {
            "tags": []
          },
          "execution_count": 30
        }
      ]
    },
    {
      "cell_type": "code",
      "metadata": {
        "id": "8o8QmfGFVWWF",
        "colab_type": "code",
        "colab": {}
      },
      "source": [
        "predictions = model.predict(X_test)"
      ],
      "execution_count": null,
      "outputs": []
    },
    {
      "cell_type": "code",
      "metadata": {
        "id": "sL5LAuI_Vjui",
        "colab_type": "code",
        "colab": {}
      },
      "source": [
        "from sklearn.metrics import accuracy_score, classification_report"
      ],
      "execution_count": null,
      "outputs": []
    },
    {
      "cell_type": "code",
      "metadata": {
        "id": "58mtd6xpWNrO",
        "colab_type": "code",
        "colab": {
          "base_uri": "https://localhost:8080/",
          "height": 173
        },
        "outputId": "d3cdf789-7a3e-4b15-b93e-7e7e5474ad3b"
      },
      "source": [
        "print(classification_report(y_test, predictions))"
      ],
      "execution_count": null,
      "outputs": [
        {
          "output_type": "stream",
          "text": [
            "              precision    recall  f1-score   support\n",
            "\n",
            "           0       0.79      0.17      0.29     10786\n",
            "           1       0.90      0.99      0.95     82382\n",
            "\n",
            "    accuracy                           0.90     93168\n",
            "   macro avg       0.84      0.58      0.62     93168\n",
            "weighted avg       0.89      0.90      0.87     93168\n",
            "\n"
          ],
          "name": "stdout"
        }
      ]
    },
    {
      "cell_type": "code",
      "metadata": {
        "id": "5LVPXPUzWTch",
        "colab_type": "code",
        "colab": {
          "base_uri": "https://localhost:8080/",
          "height": 173
        },
        "outputId": "63792c17-7790-4e0a-ce46-3b26864337f9"
      },
      "source": [
        "#In R we had more accuracy score\n",
        "#Let's check accuracy for train\n",
        "predictions_train = model.predict(X_train)\n",
        "print(classification_report(y_train, predictions_train))\n",
        "#So, there is no overfitting, uderfitting\n",
        "#both accuracy score are 90%\n",
        "#but f1 scores are very bad for 0"
      ],
      "execution_count": null,
      "outputs": [
        {
          "output_type": "stream",
          "text": [
            "              precision    recall  f1-score   support\n",
            "\n",
            "           0       0.78      0.17      0.28     42976\n",
            "           1       0.90      0.99      0.95    329695\n",
            "\n",
            "    accuracy                           0.90    372671\n",
            "   macro avg       0.84      0.58      0.61    372671\n",
            "weighted avg       0.89      0.90      0.87    372671\n",
            "\n"
          ],
          "name": "stdout"
        }
      ]
    },
    {
      "cell_type": "code",
      "metadata": {
        "id": "dnGk-HKrW2Rd",
        "colab_type": "code",
        "colab": {}
      },
      "source": [
        "from sklearn.metrics import plot_roc_curve"
      ],
      "execution_count": null,
      "outputs": []
    },
    {
      "cell_type": "code",
      "metadata": {
        "id": "Fd-r86tVPSPj",
        "colab_type": "code",
        "colab": {
          "base_uri": "https://localhost:8080/",
          "height": 319
        },
        "outputId": "7341f48e-ec75-4000-dbb6-67babc2a209c"
      },
      "source": [
        "print(plot_roc_curve(model, X_test, y_test))\n",
        "#AUC = 0.84"
      ],
      "execution_count": null,
      "outputs": [
        {
          "output_type": "stream",
          "text": [
            "<sklearn.metrics._plot.roc_curve.RocCurveDisplay object at 0x7f1cf5de36d8>\n"
          ],
          "name": "stdout"
        },
        {
          "output_type": "display_data",
          "data": {
            "text/plain": [
              "<Figure size 720x720 with 0 Axes>"
            ]
          },
          "metadata": {
            "tags": []
          }
        },
        {
          "output_type": "display_data",
          "data": {
            "image/png": "[encoded data removed]",
            "text/plain": [
              "<Figure size 432x288 with 1 Axes>"
            ]
          },
          "metadata": {
            "tags": [],
            "needs_background": "light"
          }
        }
      ]
    },
    {
      "cell_type": "code",
      "metadata": {
        "id": "rBahj-xePbIq",
        "colab_type": "code",
        "colab": {
          "base_uri": "https://localhost:8080/",
          "height": 35
        },
        "outputId": "77738d2d-e449-4475-d940-5cc7ca5f8117"
      },
      "source": [
        "#Accuracy score for test set\n",
        "model.score(X_test, y_test)"
      ],
      "execution_count": null,
      "outputs": [
        {
          "output_type": "execute_result",
          "data": {
            "text/plain": [
              "0.8989567233384853"
            ]
          },
          "metadata": {
            "tags": []
          },
          "execution_count": 40
        }
      ]
    },
    {
      "cell_type": "code",
      "metadata": {
        "id": "Xsg4uklEf4vA",
        "colab_type": "code",
        "colab": {
          "base_uri": "https://localhost:8080/",
          "height": 35
        },
        "outputId": "87e8bdd4-a031-4a4c-e19f-ec717e45c7f0"
      },
      "source": [
        "#Accuracy score for train set\n",
        "model.score(X_train, y_train)"
      ],
      "execution_count": null,
      "outputs": [
        {
          "output_type": "execute_result",
          "data": {
            "text/plain": [
              "0.8986827523472446"
            ]
          },
          "metadata": {
            "tags": []
          },
          "execution_count": 41
        }
      ]
    },
    {
      "cell_type": "code",
      "metadata": {
        "id": "Lw2j4v0XgBNd",
        "colab_type": "code",
        "colab": {
          "base_uri": "https://localhost:8080/",
          "height": 795
        },
        "outputId": "aafc2354-ddeb-49ab-ec4c-90aba9bdf1a9"
      },
      "source": [
        "model.coef_"
      ],
      "execution_count": null,
      "outputs": [
        {
          "output_type": "execute_result",
          "data": {
            "text/plain": [
              "array([[ 9.61732022e-04, -1.38661322e-05,  1.48699549e-05,\n",
              "        -3.05864563e-05,  2.84943010e-04,  2.99327336e-05,\n",
              "         4.82484126e-05,  4.82484126e-05, -9.93859187e-04,\n",
              "         3.72994223e-04,  9.21304110e-04,  6.10420754e-04,\n",
              "         3.57385203e-04,  3.40672691e-06,  1.45077600e-06,\n",
              "         1.43588310e-05,  1.35241633e-05,  3.40672691e-06,\n",
              "         4.82484126e-05,  4.82484126e-05, -1.38661322e-05,\n",
              "         1.35241633e-05,  3.09062859e-05,  1.48699549e-05,\n",
              "         4.14452678e-06,  1.14819185e-05, -5.83326337e-09,\n",
              "         4.56908130e-06, -5.79685545e-06, -7.42677981e-08,\n",
              "         1.33731376e-06,  2.93526282e-06,  2.10069521e-06,\n",
              "         3.65696209e-07, -1.56965352e-06, -2.04494590e-07,\n",
              "         2.82018305e-07, -6.07261945e-08,  3.07161825e-06,\n",
              "        -8.18820596e-07, -1.28957420e-07,  6.00103880e-07,\n",
              "        -1.83511683e-07,  6.33124461e-07,  3.06753725e-07,\n",
              "         1.82990301e-07,  1.19728819e-06,  4.62022911e-09,\n",
              "        -1.06981847e-06,  3.97263991e-07, -1.03052738e-07,\n",
              "         7.41162365e-07,  6.36946559e-07,  8.01626076e-07,\n",
              "         6.99872558e-07,  8.27895837e-07,  4.55727671e-07,\n",
              "         3.28721055e-07,  1.76710032e-07,  3.11640612e-07,\n",
              "         1.43329389e-07,  2.49060578e-07,  8.80333788e-08,\n",
              "        -2.59899054e-08, -8.87372318e-08, -2.18601304e-07,\n",
              "        -4.36431524e-07, -3.63163858e-07, -3.98176309e-07,\n",
              "        -1.53280526e-07, -1.25260894e-07, -1.40996500e-07,\n",
              "         6.90030929e-08, -2.40159917e-08,  1.67757027e-08,\n",
              "         1.74614113e-07,  2.87670948e-08,  3.88881989e-09,\n",
              "         9.40755126e-08, -1.93272356e-08, -4.28502376e-08,\n",
              "         1.43376031e-08,  4.06348830e-09, -1.17340311e-08,\n",
              "        -2.45430173e-08,  4.34055126e-09,  4.31888866e-08,\n",
              "         1.16180635e-08, -5.29102003e-07,  1.70399147e-07,\n",
              "         1.87271143e-07,  8.50761618e-08,  1.03324130e-08,\n",
              "        -2.50327639e-07,  3.42962773e-07, -1.54775194e-08,\n",
              "        -4.03717308e-09, -6.21004026e-09,  5.01990979e-07,\n",
              "         3.45472477e-07,  2.17224255e-07,  1.13488519e-07,\n",
              "         1.68399808e-08, -2.12738683e-07, -4.54389950e-08,\n",
              "         2.34660858e-09,  2.34477535e-07,  1.77488282e-07,\n",
              "         8.49829774e-09,  1.65569000e-07,  5.80119888e-08,\n",
              "         2.02735420e-07, -1.03808757e-08,  1.19357380e-07,\n",
              "        -1.75303319e-07, -5.10629969e-10, -1.60430651e-07,\n",
              "        -7.92069244e-08,  3.83932656e-07,  7.04881503e-08,\n",
              "         1.57908576e-07,  3.47785620e-07,  6.02979956e-08,\n",
              "         2.62175446e-07,  3.64832492e-08,  2.52289340e-07,\n",
              "         9.22538209e-07, -1.73538700e-08, -9.32031531e-08,\n",
              "         5.45963028e-08,  1.61058544e-07,  1.35537963e-07,\n",
              "         1.43333472e-07,  5.70651509e-08]])"
            ]
          },
          "metadata": {
            "tags": []
          },
          "execution_count": 50
        }
      ]
    },
    {
      "cell_type": "code",
      "metadata": {
        "id": "l36JuLJLgKU6",
        "colab_type": "code",
        "colab": {}
      },
      "source": [
        ""
      ],
      "execution_count": null,
      "outputs": []
    }
  ]
}