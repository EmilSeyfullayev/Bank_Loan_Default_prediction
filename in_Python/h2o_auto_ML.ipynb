{
  "nbformat": 4,
  "nbformat_minor": 0,
  "metadata": {
    "colab": {
      "name": "h2o_auto_ML",
      "provenance": [],
      "collapsed_sections": [],
      "mount_file_id": "1hsOKpsL0Fdm2LieNtEJweJimfsuX-Z08",
      "authorship_tag": "ABX9TyOp1/yYnhTGg8zRrifm0c42",
      "include_colab_link": true
    },
    "kernelspec": {
      "name": "python3",
      "display_name": "Python 3"
    }
  },
  "cells": [
    {
      "cell_type": "markdown",
      "metadata": {
        "id": "view-in-github",
        "colab_type": "text"
      },
      "source": [
        "<a href=\"https://colab.research.google.com/github/EmilSeyfullayev/Bank_Loan_Default_prediction/blob/master/in_Python/h2o_auto_ML.ipynb\" target=\"_parent\"><img src=\"https://colab.research.google.com/assets/colab-badge.svg\" alt=\"Open In Colab\"/></a>"
      ]
    },
    {
      "cell_type": "code",
      "metadata": {
        "id": "gn6_uMfQ77Ek",
        "colab_type": "code",
        "colab": {
          "base_uri": "https://localhost:8080/",
          "height": 544
        },
        "outputId": "a5f50c98-4a57-42cf-8349-36cec003857d"
      },
      "source": [
        "!apt-get install default-jre\n",
        "!java -version\n",
        "!pip install h2o"
      ],
      "execution_count": 1,
      "outputs": [
        {
          "output_type": "stream",
          "text": [
            "Reading package lists... Done\n",
            "Building dependency tree       \n",
            "Reading state information... Done\n",
            "default-jre is already the newest version (2:1.11-68ubuntu1~18.04.1).\n",
            "default-jre set to manually installed.\n",
            "The following package was automatically installed and is no longer required:\n",
            "  libnvidia-common-440\n",
            "Use 'apt autoremove' to remove it.\n",
            "0 upgraded, 0 newly installed, 0 to remove and 39 not upgraded.\n",
            "openjdk version \"11.0.8\" 2020-07-14\n",
            "OpenJDK Runtime Environment (build 11.0.8+10-post-Ubuntu-0ubuntu118.04.1)\n",
            "OpenJDK 64-Bit Server VM (build 11.0.8+10-post-Ubuntu-0ubuntu118.04.1, mixed mode, sharing)\n",
            "Collecting h2o\n",
            "\u001b[?25l  Downloading https://files.pythonhosted.org/packages/b0/e7/b7057e4a6832f3bec0cb36fda4913bf84a6dc610c92a2d3543442f4154a1/h2o-3.30.1.1.tar.gz (129.3MB)\n",
            "\u001b[K     |████████████████████████████████| 129.3MB 99kB/s \n",
            "\u001b[?25hRequirement already satisfied: requests in /usr/local/lib/python3.6/dist-packages (from h2o) (2.23.0)\n",
            "Requirement already satisfied: tabulate in /usr/local/lib/python3.6/dist-packages (from h2o) (0.8.7)\n",
            "Requirement already satisfied: future in /usr/local/lib/python3.6/dist-packages (from h2o) (0.16.0)\n",
            "Collecting colorama>=0.3.8\n",
            "  Downloading https://files.pythonhosted.org/packages/c9/dc/45cdef1b4d119eb96316b3117e6d5708a08029992b2fee2c143c7a0a5cc5/colorama-0.4.3-py2.py3-none-any.whl\n",
            "Requirement already satisfied: chardet<4,>=3.0.2 in /usr/local/lib/python3.6/dist-packages (from requests->h2o) (3.0.4)\n",
            "Requirement already satisfied: certifi>=2017.4.17 in /usr/local/lib/python3.6/dist-packages (from requests->h2o) (2020.6.20)\n",
            "Requirement already satisfied: idna<3,>=2.5 in /usr/local/lib/python3.6/dist-packages (from requests->h2o) (2.10)\n",
            "Requirement already satisfied: urllib3!=1.25.0,!=1.25.1,<1.26,>=1.21.1 in /usr/local/lib/python3.6/dist-packages (from requests->h2o) (1.24.3)\n",
            "Building wheels for collected packages: h2o\n",
            "  Building wheel for h2o (setup.py) ... \u001b[?25l\u001b[?25hdone\n",
            "  Created wheel for h2o: filename=h2o-3.30.1.1-py2.py3-none-any.whl size=129358602 sha256=6416e2bc2eb6473f9d46147082f21eadfd4e01bfb3902321753e5622ecc25fbe\n",
            "  Stored in directory: /root/.cache/pip/wheels/33/ac/52/165c35d747abdb629c3c9fb7e087f360c662d8cb58824caed8\n",
            "Successfully built h2o\n",
            "Installing collected packages: colorama, h2o\n",
            "Successfully installed colorama-0.4.3 h2o-3.30.1.1\n"
          ],
          "name": "stdout"
        }
      ]
    },
    {
      "cell_type": "code",
      "metadata": {
        "id": "YjeKc_-i8TFh",
        "colab_type": "code",
        "colab": {
          "base_uri": "https://localhost:8080/",
          "height": 545
        },
        "outputId": "65b5b843-3610-43bc-f567-d1abc02b882a"
      },
      "source": [
        "import h2o\n",
        "h2o.init()"
      ],
      "execution_count": 2,
      "outputs": [
        {
          "output_type": "stream",
          "text": [
            "Checking whether there is an H2O instance running at http://localhost:54321 ..... not found.\n",
            "Attempting to start a local H2O server...\n",
            "  Java Version: openjdk version \"11.0.8\" 2020-07-14; OpenJDK Runtime Environment (build 11.0.8+10-post-Ubuntu-0ubuntu118.04.1); OpenJDK 64-Bit Server VM (build 11.0.8+10-post-Ubuntu-0ubuntu118.04.1, mixed mode, sharing)\n",
            "  Starting server from /usr/local/lib/python3.6/dist-packages/h2o/backend/bin/h2o.jar\n",
            "  Ice root: /tmp/tmp_0e5pk_i\n",
            "  JVM stdout: /tmp/tmp_0e5pk_i/h2o_unknownUser_started_from_python.out\n",
            "  JVM stderr: /tmp/tmp_0e5pk_i/h2o_unknownUser_started_from_python.err\n",
            "  Server is running at http://127.0.0.1:54321\n",
            "Connecting to H2O server at http://127.0.0.1:54321 ... successful.\n"
          ],
          "name": "stdout"
        },
        {
          "output_type": "display_data",
          "data": {
            "text/html": [
              "<div style=\"overflow:auto\"><table style=\"width:50%\"><tr><td>H2O_cluster_uptime:</td>\n",
              "<td>02 secs</td></tr>\n",
              "<tr><td>H2O_cluster_timezone:</td>\n",
              "<td>Etc/UTC</td></tr>\n",
              "<tr><td>H2O_data_parsing_timezone:</td>\n",
              "<td>UTC</td></tr>\n",
              "<tr><td>H2O_cluster_version:</td>\n",
              "<td>3.30.1.1</td></tr>\n",
              "<tr><td>H2O_cluster_version_age:</td>\n",
              "<td>21 days, 4 hours and 45 minutes </td></tr>\n",
              "<tr><td>H2O_cluster_name:</td>\n",
              "<td>H2O_from_python_unknownUser_5gtnxd</td></tr>\n",
              "<tr><td>H2O_cluster_total_nodes:</td>\n",
              "<td>1</td></tr>\n",
              "<tr><td>H2O_cluster_free_memory:</td>\n",
              "<td>3.180 Gb</td></tr>\n",
              "<tr><td>H2O_cluster_total_cores:</td>\n",
              "<td>2</td></tr>\n",
              "<tr><td>H2O_cluster_allowed_cores:</td>\n",
              "<td>2</td></tr>\n",
              "<tr><td>H2O_cluster_status:</td>\n",
              "<td>accepting new members, healthy</td></tr>\n",
              "<tr><td>H2O_connection_url:</td>\n",
              "<td>http://127.0.0.1:54321</td></tr>\n",
              "<tr><td>H2O_connection_proxy:</td>\n",
              "<td>{\"http\": null, \"https\": null}</td></tr>\n",
              "<tr><td>H2O_internal_security:</td>\n",
              "<td>False</td></tr>\n",
              "<tr><td>H2O_API_Extensions:</td>\n",
              "<td>Amazon S3, XGBoost, Algos, AutoML, Core V3, TargetEncoder, Core V4</td></tr>\n",
              "<tr><td>Python_version:</td>\n",
              "<td>3.6.9 final</td></tr></table></div>"
            ],
            "text/plain": [
              "--------------------------  ------------------------------------------------------------------\n",
              "H2O_cluster_uptime:         02 secs\n",
              "H2O_cluster_timezone:       Etc/UTC\n",
              "H2O_data_parsing_timezone:  UTC\n",
              "H2O_cluster_version:        3.30.1.1\n",
              "H2O_cluster_version_age:    21 days, 4 hours and 45 minutes\n",
              "H2O_cluster_name:           H2O_from_python_unknownUser_5gtnxd\n",
              "H2O_cluster_total_nodes:    1\n",
              "H2O_cluster_free_memory:    3.180 Gb\n",
              "H2O_cluster_total_cores:    2\n",
              "H2O_cluster_allowed_cores:  2\n",
              "H2O_cluster_status:         accepting new members, healthy\n",
              "H2O_connection_url:         http://127.0.0.1:54321\n",
              "H2O_connection_proxy:       {\"http\": null, \"https\": null}\n",
              "H2O_internal_security:      False\n",
              "H2O_API_Extensions:         Amazon S3, XGBoost, Algos, AutoML, Core V3, TargetEncoder, Core V4\n",
              "Python_version:             3.6.9 final\n",
              "--------------------------  ------------------------------------------------------------------"
            ]
          },
          "metadata": {
            "tags": []
          }
        }
      ]
    },
    {
      "cell_type": "code",
      "metadata": {
        "id": "ziAoOxxP8nXk",
        "colab_type": "code",
        "colab": {}
      },
      "source": [
        "from h2o.automl import H2OAutoML"
      ],
      "execution_count": 6,
      "outputs": []
    },
    {
      "cell_type": "code",
      "metadata": {
        "id": "TT2x-PyB9Gv4",
        "colab_type": "code",
        "colab": {
          "base_uri": "https://localhost:8080/",
          "height": 34
        },
        "outputId": "f94b16a3-830f-4356-f2ee-47418e770697"
      },
      "source": [
        "df = h2o.import_file('/content/drive/My Drive/Colab Notebooks/Credit Risk Modeling.df_with_dummies.csv')"
      ],
      "execution_count": 7,
      "outputs": [
        {
          "output_type": "stream",
          "text": [
            "Parse progress: |█████████████████████████████████████████████████████████| 100%\n"
          ],
          "name": "stdout"
        }
      ]
    },
    {
      "cell_type": "code",
      "metadata": {
        "id": "w2XCCD7D9gFY",
        "colab_type": "code",
        "colab": {}
      },
      "source": [
        "df_train, df_test, df_validation = df.split_frame([.7, .15])"
      ],
      "execution_count": 8,
      "outputs": []
    },
    {
      "cell_type": "code",
      "metadata": {
        "id": "B3LPmsOr-1QJ",
        "colab_type": "code",
        "colab": {}
      },
      "source": [
        "y = 'loan_status'\n",
        "x = df.columns\n",
        "x.remove('loan_status')\n",
        "x.remove('C1')"
      ],
      "execution_count": 9,
      "outputs": []
    },
    {
      "cell_type": "code",
      "metadata": {
        "id": "WgZQ8bfeH72Z",
        "colab_type": "code",
        "colab": {}
      },
      "source": [
        "df_train[y] = df_train[y].asfactor()\n",
        "df_test[y] = df_test[y].asfactor()\n",
        "df_validation[y] = df_validation[y].asfactor()"
      ],
      "execution_count": 10,
      "outputs": []
    },
    {
      "cell_type": "code",
      "metadata": {
        "id": "v9jc_S6w--xz",
        "colab_type": "code",
        "colab": {}
      },
      "source": [
        "aml = H2OAutoML(\n",
        "    nfolds=0,\n",
        "    balance_classes=True,\n",
        "    max_runtime_secs=480,\n",
        "    seed=42,\n",
        "    stopping_metric=\"AUC\"\n",
        ")"
      ],
      "execution_count": null,
      "outputs": []
    },
    {
      "cell_type": "code",
      "metadata": {
        "id": "o9UXK890AO6v",
        "colab_type": "code",
        "colab": {
          "base_uri": "https://localhost:8080/",
          "height": 34
        },
        "outputId": "91296001-ce0e-4d77-f2ea-c92ca3c7e4b0"
      },
      "source": [
        "aml.train(x,y,training_frame=df_train, validation_frame=df_validation)"
      ],
      "execution_count": null,
      "outputs": [
        {
          "output_type": "stream",
          "text": [
            "AutoML progress: |████████████████████████████████████████████████████████| 100%\n"
          ],
          "name": "stdout"
        }
      ]
    },
    {
      "cell_type": "code",
      "metadata": {
        "id": "EDR6W4dHAiBS",
        "colab_type": "code",
        "colab": {
          "base_uri": "https://localhost:8080/",
          "height": 250
        },
        "outputId": "411f62c8-2cfb-4f17-853d-a236afd69240"
      },
      "source": [
        "aml.leaderboard"
      ],
      "execution_count": null,
      "outputs": [
        {
          "output_type": "display_data",
          "data": {
            "text/html": [
              "<table>\n",
              "<thead>\n",
              "<tr><th>model_id                                      </th><th style=\"text-align: right;\">     auc</th><th style=\"text-align: right;\">  logloss</th><th style=\"text-align: right;\">   aucpr</th><th style=\"text-align: right;\">  mean_per_class_error</th><th style=\"text-align: right;\">    rmse</th><th style=\"text-align: right;\">      mse</th></tr>\n",
              "</thead>\n",
              "<tbody>\n",
              "<tr><td>XGBoost_grid__1_AutoML_20200828_134456_model_1</td><td style=\"text-align: right;\">0.97341 </td><td style=\"text-align: right;\">0.0761919</td><td style=\"text-align: right;\">0.995861</td><td style=\"text-align: right;\">             0.0788302</td><td style=\"text-align: right;\">0.132506</td><td style=\"text-align: right;\">0.0175577</td></tr>\n",
              "<tr><td>XGBoost_grid__1_AutoML_20200828_134456_model_2</td><td style=\"text-align: right;\">0.972112</td><td style=\"text-align: right;\">0.0794357</td><td style=\"text-align: right;\">0.995595</td><td style=\"text-align: right;\">             0.0823282</td><td style=\"text-align: right;\">0.134778</td><td style=\"text-align: right;\">0.0181652</td></tr>\n",
              "<tr><td>XGBoost_1_AutoML_20200828_134456              </td><td style=\"text-align: right;\">0.964037</td><td style=\"text-align: right;\">0.20105  </td><td style=\"text-align: right;\">0.993969</td><td style=\"text-align: right;\">             0.0905374</td><td style=\"text-align: right;\">0.195534</td><td style=\"text-align: right;\">0.0382335</td></tr>\n",
              "<tr><td>XGBoost_2_AutoML_20200828_134456              </td><td style=\"text-align: right;\">0.963381</td><td style=\"text-align: right;\">0.199277 </td><td style=\"text-align: right;\">0.993656</td><td style=\"text-align: right;\">             0.0841219</td><td style=\"text-align: right;\">0.194129</td><td style=\"text-align: right;\">0.037686 </td></tr>\n",
              "<tr><td>GBM_grid__1_AutoML_20200828_134456_model_1    </td><td style=\"text-align: right;\">0.961979</td><td style=\"text-align: right;\">0.265636 </td><td style=\"text-align: right;\">0.990926</td><td style=\"text-align: right;\">             0.0909875</td><td style=\"text-align: right;\">0.285477</td><td style=\"text-align: right;\">0.0814972</td></tr>\n",
              "<tr><td>GBM_4_AutoML_20200828_134456                  </td><td style=\"text-align: right;\">0.959745</td><td style=\"text-align: right;\">0.325013 </td><td style=\"text-align: right;\">0.992472</td><td style=\"text-align: right;\">             0.0956058</td><td style=\"text-align: right;\">0.307719</td><td style=\"text-align: right;\">0.0946912</td></tr>\n",
              "<tr><td>GBM_5_AutoML_20200828_134456                  </td><td style=\"text-align: right;\">0.955685</td><td style=\"text-align: right;\">0.324839 </td><td style=\"text-align: right;\">0.99149 </td><td style=\"text-align: right;\">             0.0958429</td><td style=\"text-align: right;\">0.307686</td><td style=\"text-align: right;\">0.0946704</td></tr>\n",
              "<tr><td>GBM_3_AutoML_20200828_134456                  </td><td style=\"text-align: right;\">0.950635</td><td style=\"text-align: right;\">0.326605 </td><td style=\"text-align: right;\">0.991455</td><td style=\"text-align: right;\">             0.109804 </td><td style=\"text-align: right;\">0.308235</td><td style=\"text-align: right;\">0.0950086</td></tr>\n",
              "<tr><td>XGBoost_3_AutoML_20200828_134456              </td><td style=\"text-align: right;\">0.949874</td><td style=\"text-align: right;\">0.121728 </td><td style=\"text-align: right;\">0.991633</td><td style=\"text-align: right;\">             0.108935 </td><td style=\"text-align: right;\">0.161904</td><td style=\"text-align: right;\">0.026213 </td></tr>\n",
              "<tr><td>GBM_2_AutoML_20200828_134456                  </td><td style=\"text-align: right;\">0.941604</td><td style=\"text-align: right;\">0.32739  </td><td style=\"text-align: right;\">0.989406</td><td style=\"text-align: right;\">             0.109557 </td><td style=\"text-align: right;\">0.308479</td><td style=\"text-align: right;\">0.0951591</td></tr>\n",
              "</tbody>\n",
              "</table>"
            ]
          },
          "metadata": {
            "tags": []
          }
        },
        {
          "output_type": "execute_result",
          "data": {
            "text/plain": [
              ""
            ]
          },
          "metadata": {
            "tags": []
          },
          "execution_count": 62
        }
      ]
    },
    {
      "cell_type": "code",
      "metadata": {
        "id": "gN256rFeV6GV",
        "colab_type": "code",
        "colab": {
          "base_uri": "https://localhost:8080/",
          "height": 1000
        },
        "outputId": "0aa8c5f8-5de0-42f0-c6a1-2dfc04616e49"
      },
      "source": [
        "aml.leader"
      ],
      "execution_count": null,
      "outputs": [
        {
          "output_type": "stream",
          "text": [
            "Model Details\n",
            "=============\n",
            "H2OXGBoostEstimator :  XGBoost\n",
            "Model Key:  XGBoost_grid__1_AutoML_20200828_134456_model_1\n",
            "\n",
            "\n",
            "Model Summary: \n"
          ],
          "name": "stdout"
        },
        {
          "output_type": "display_data",
          "data": {
            "text/html": [
              "<div>\n",
              "<style scoped>\n",
              "    .dataframe tbody tr th:only-of-type {\n",
              "        vertical-align: middle;\n",
              "    }\n",
              "\n",
              "    .dataframe tbody tr th {\n",
              "        vertical-align: top;\n",
              "    }\n",
              "\n",
              "    .dataframe thead th {\n",
              "        text-align: right;\n",
              "    }\n",
              "</style>\n",
              "<table border=\"1\" class=\"dataframe\">\n",
              "  <thead>\n",
              "    <tr style=\"text-align: right;\">\n",
              "      <th></th>\n",
              "      <th></th>\n",
              "      <th>number_of_trees</th>\n",
              "    </tr>\n",
              "  </thead>\n",
              "  <tbody>\n",
              "    <tr>\n",
              "      <th>0</th>\n",
              "      <td></td>\n",
              "      <td>40.0</td>\n",
              "    </tr>\n",
              "  </tbody>\n",
              "</table>\n",
              "</div>"
            ],
            "text/plain": [
              "     number_of_trees\n",
              "0               40.0"
            ]
          },
          "metadata": {
            "tags": []
          }
        },
        {
          "output_type": "stream",
          "text": [
            "\n",
            "\n",
            "ModelMetricsBinomial: xgboost\n",
            "** Reported on train data. **\n",
            "\n",
            "MSE: 0.015370867696150096\n",
            "RMSE: 0.12397930349921352\n",
            "LogLoss: 0.06386690297972233\n",
            "Mean Per-Class Error: 0.055513633178206456\n",
            "AUC: 0.9871577561863064\n",
            "AUCPR: 0.9980624466316083\n",
            "Gini: 0.9743155123726128\n",
            "\n",
            "Confusion Matrix (Act/Pred) for max f1 @ threshold = 0.6953888963907957: \n"
          ],
          "name": "stdout"
        },
        {
          "output_type": "display_data",
          "data": {
            "text/html": [
              "<div>\n",
              "<style scoped>\n",
              "    .dataframe tbody tr th:only-of-type {\n",
              "        vertical-align: middle;\n",
              "    }\n",
              "\n",
              "    .dataframe tbody tr th {\n",
              "        vertical-align: top;\n",
              "    }\n",
              "\n",
              "    .dataframe thead th {\n",
              "        text-align: right;\n",
              "    }\n",
              "</style>\n",
              "<table border=\"1\" class=\"dataframe\">\n",
              "  <thead>\n",
              "    <tr style=\"text-align: right;\">\n",
              "      <th></th>\n",
              "      <th></th>\n",
              "      <th>0</th>\n",
              "      <th>1</th>\n",
              "      <th>Error</th>\n",
              "      <th>Rate</th>\n",
              "    </tr>\n",
              "  </thead>\n",
              "  <tbody>\n",
              "    <tr>\n",
              "      <th>0</th>\n",
              "      <td>0</td>\n",
              "      <td>29210.0</td>\n",
              "      <td>4623.0</td>\n",
              "      <td>0.1366</td>\n",
              "      <td>(4623.0/33833.0)</td>\n",
              "    </tr>\n",
              "    <tr>\n",
              "      <th>1</th>\n",
              "      <td>1</td>\n",
              "      <td>407.0</td>\n",
              "      <td>258647.0</td>\n",
              "      <td>0.0016</td>\n",
              "      <td>(407.0/259054.0)</td>\n",
              "    </tr>\n",
              "    <tr>\n",
              "      <th>2</th>\n",
              "      <td>Total</td>\n",
              "      <td>29617.0</td>\n",
              "      <td>263270.0</td>\n",
              "      <td>0.0172</td>\n",
              "      <td>(5030.0/292887.0)</td>\n",
              "    </tr>\n",
              "  </tbody>\n",
              "</table>\n",
              "</div>"
            ],
            "text/plain": [
              "                0         1   Error                Rate\n",
              "0      0  29210.0    4623.0  0.1366    (4623.0/33833.0)\n",
              "1      1    407.0  258647.0  0.0016    (407.0/259054.0)\n",
              "2  Total  29617.0  263270.0  0.0172   (5030.0/292887.0)"
            ]
          },
          "metadata": {
            "tags": []
          }
        },
        {
          "output_type": "stream",
          "text": [
            "\n",
            "Maximum Metrics: Maximum metrics at their respective thresholds\n"
          ],
          "name": "stdout"
        },
        {
          "output_type": "display_data",
          "data": {
            "text/html": [
              "<div>\n",
              "<style scoped>\n",
              "    .dataframe tbody tr th:only-of-type {\n",
              "        vertical-align: middle;\n",
              "    }\n",
              "\n",
              "    .dataframe tbody tr th {\n",
              "        vertical-align: top;\n",
              "    }\n",
              "\n",
              "    .dataframe thead th {\n",
              "        text-align: right;\n",
              "    }\n",
              "</style>\n",
              "<table border=\"1\" class=\"dataframe\">\n",
              "  <thead>\n",
              "    <tr style=\"text-align: right;\">\n",
              "      <th></th>\n",
              "      <th>metric</th>\n",
              "      <th>threshold</th>\n",
              "      <th>value</th>\n",
              "      <th>idx</th>\n",
              "    </tr>\n",
              "  </thead>\n",
              "  <tbody>\n",
              "    <tr>\n",
              "      <th>0</th>\n",
              "      <td>max f1</td>\n",
              "      <td>0.695389</td>\n",
              "      <td>0.990370</td>\n",
              "      <td>233.0</td>\n",
              "    </tr>\n",
              "    <tr>\n",
              "      <th>1</th>\n",
              "      <td>max f2</td>\n",
              "      <td>0.491082</td>\n",
              "      <td>0.995853</td>\n",
              "      <td>275.0</td>\n",
              "    </tr>\n",
              "    <tr>\n",
              "      <th>2</th>\n",
              "      <td>max f0point5</td>\n",
              "      <td>0.866833</td>\n",
              "      <td>0.986846</td>\n",
              "      <td>177.0</td>\n",
              "    </tr>\n",
              "    <tr>\n",
              "      <th>3</th>\n",
              "      <td>max accuracy</td>\n",
              "      <td>0.695389</td>\n",
              "      <td>0.982826</td>\n",
              "      <td>233.0</td>\n",
              "    </tr>\n",
              "    <tr>\n",
              "      <th>4</th>\n",
              "      <td>max precision</td>\n",
              "      <td>0.999709</td>\n",
              "      <td>1.000000</td>\n",
              "      <td>0.0</td>\n",
              "    </tr>\n",
              "    <tr>\n",
              "      <th>5</th>\n",
              "      <td>max recall</td>\n",
              "      <td>0.035564</td>\n",
              "      <td>1.000000</td>\n",
              "      <td>375.0</td>\n",
              "    </tr>\n",
              "    <tr>\n",
              "      <th>6</th>\n",
              "      <td>max specificity</td>\n",
              "      <td>0.999709</td>\n",
              "      <td>1.000000</td>\n",
              "      <td>0.0</td>\n",
              "    </tr>\n",
              "    <tr>\n",
              "      <th>7</th>\n",
              "      <td>max absolute_mcc</td>\n",
              "      <td>0.695389</td>\n",
              "      <td>0.913680</td>\n",
              "      <td>233.0</td>\n",
              "    </tr>\n",
              "    <tr>\n",
              "      <th>8</th>\n",
              "      <td>max min_per_class_accuracy</td>\n",
              "      <td>0.939272</td>\n",
              "      <td>0.939572</td>\n",
              "      <td>120.0</td>\n",
              "    </tr>\n",
              "    <tr>\n",
              "      <th>9</th>\n",
              "      <td>max mean_per_class_accuracy</td>\n",
              "      <td>0.920056</td>\n",
              "      <td>0.944486</td>\n",
              "      <td>139.0</td>\n",
              "    </tr>\n",
              "    <tr>\n",
              "      <th>10</th>\n",
              "      <td>max tns</td>\n",
              "      <td>0.999709</td>\n",
              "      <td>33833.000000</td>\n",
              "      <td>0.0</td>\n",
              "    </tr>\n",
              "    <tr>\n",
              "      <th>11</th>\n",
              "      <td>max fns</td>\n",
              "      <td>0.999709</td>\n",
              "      <td>248652.000000</td>\n",
              "      <td>0.0</td>\n",
              "    </tr>\n",
              "    <tr>\n",
              "      <th>12</th>\n",
              "      <td>max fps</td>\n",
              "      <td>0.000152</td>\n",
              "      <td>33833.000000</td>\n",
              "      <td>399.0</td>\n",
              "    </tr>\n",
              "    <tr>\n",
              "      <th>13</th>\n",
              "      <td>max tps</td>\n",
              "      <td>0.035564</td>\n",
              "      <td>259054.000000</td>\n",
              "      <td>375.0</td>\n",
              "    </tr>\n",
              "    <tr>\n",
              "      <th>14</th>\n",
              "      <td>max tnr</td>\n",
              "      <td>0.999709</td>\n",
              "      <td>1.000000</td>\n",
              "      <td>0.0</td>\n",
              "    </tr>\n",
              "    <tr>\n",
              "      <th>15</th>\n",
              "      <td>max fnr</td>\n",
              "      <td>0.999709</td>\n",
              "      <td>0.959846</td>\n",
              "      <td>0.0</td>\n",
              "    </tr>\n",
              "    <tr>\n",
              "      <th>16</th>\n",
              "      <td>max fpr</td>\n",
              "      <td>0.000152</td>\n",
              "      <td>1.000000</td>\n",
              "      <td>399.0</td>\n",
              "    </tr>\n",
              "    <tr>\n",
              "      <th>17</th>\n",
              "      <td>max tpr</td>\n",
              "      <td>0.035564</td>\n",
              "      <td>1.000000</td>\n",
              "      <td>375.0</td>\n",
              "    </tr>\n",
              "  </tbody>\n",
              "</table>\n",
              "</div>"
            ],
            "text/plain": [
              "                         metric  threshold          value    idx\n",
              "0                        max f1   0.695389       0.990370  233.0\n",
              "1                        max f2   0.491082       0.995853  275.0\n",
              "2                  max f0point5   0.866833       0.986846  177.0\n",
              "3                  max accuracy   0.695389       0.982826  233.0\n",
              "4                 max precision   0.999709       1.000000    0.0\n",
              "5                    max recall   0.035564       1.000000  375.0\n",
              "6               max specificity   0.999709       1.000000    0.0\n",
              "7              max absolute_mcc   0.695389       0.913680  233.0\n",
              "8    max min_per_class_accuracy   0.939272       0.939572  120.0\n",
              "9   max mean_per_class_accuracy   0.920056       0.944486  139.0\n",
              "10                      max tns   0.999709   33833.000000    0.0\n",
              "11                      max fns   0.999709  248652.000000    0.0\n",
              "12                      max fps   0.000152   33833.000000  399.0\n",
              "13                      max tps   0.035564  259054.000000  375.0\n",
              "14                      max tnr   0.999709       1.000000    0.0\n",
              "15                      max fnr   0.999709       0.959846    0.0\n",
              "16                      max fpr   0.000152       1.000000  399.0\n",
              "17                      max tpr   0.035564       1.000000  375.0"
            ]
          },
          "metadata": {
            "tags": []
          }
        },
        {
          "output_type": "stream",
          "text": [
            "\n",
            "Gains/Lift Table: Avg response rate: 88.45 %, avg score: 88.43 %\n"
          ],
          "name": "stdout"
        },
        {
          "output_type": "display_data",
          "data": {
            "text/html": [
              "<div>\n",
              "<style scoped>\n",
              "    .dataframe tbody tr th:only-of-type {\n",
              "        vertical-align: middle;\n",
              "    }\n",
              "\n",
              "    .dataframe tbody tr th {\n",
              "        vertical-align: top;\n",
              "    }\n",
              "\n",
              "    .dataframe thead th {\n",
              "        text-align: right;\n",
              "    }\n",
              "</style>\n",
              "<table border=\"1\" class=\"dataframe\">\n",
              "  <thead>\n",
              "    <tr style=\"text-align: right;\">\n",
              "      <th></th>\n",
              "      <th>group</th>\n",
              "      <th>cumulative_data_fraction</th>\n",
              "      <th>lower_threshold</th>\n",
              "      <th>lift</th>\n",
              "      <th>cumulative_lift</th>\n",
              "      <th>response_rate</th>\n",
              "      <th>score</th>\n",
              "      <th>cumulative_response_rate</th>\n",
              "      <th>cumulative_score</th>\n",
              "      <th>capture_rate</th>\n",
              "      <th>cumulative_capture_rate</th>\n",
              "      <th>gain</th>\n",
              "      <th>cumulative_gain</th>\n",
              "      <th>kolmogorov_smirnov</th>\n",
              "    </tr>\n",
              "  </thead>\n",
              "  <tbody>\n",
              "    <tr>\n",
              "      <th>0</th>\n",
              "      <td>1</td>\n",
              "      <td>0.010018</td>\n",
              "      <td>0.999753</td>\n",
              "      <td>1.130602</td>\n",
              "      <td>1.130602</td>\n",
              "      <td>1.000000</td>\n",
              "      <td>0.999790</td>\n",
              "      <td>1.000000</td>\n",
              "      <td>0.999790</td>\n",
              "      <td>0.011326</td>\n",
              "      <td>0.011326</td>\n",
              "      <td>13.060211</td>\n",
              "      <td>13.060211</td>\n",
              "      <td>0.011326</td>\n",
              "    </tr>\n",
              "    <tr>\n",
              "      <th>1</th>\n",
              "      <td>2</td>\n",
              "      <td>0.020011</td>\n",
              "      <td>0.999707</td>\n",
              "      <td>1.130602</td>\n",
              "      <td>1.130602</td>\n",
              "      <td>1.000000</td>\n",
              "      <td>0.999729</td>\n",
              "      <td>1.000000</td>\n",
              "      <td>0.999759</td>\n",
              "      <td>0.011299</td>\n",
              "      <td>0.022625</td>\n",
              "      <td>13.060211</td>\n",
              "      <td>13.060211</td>\n",
              "      <td>0.022625</td>\n",
              "    </tr>\n",
              "    <tr>\n",
              "      <th>2</th>\n",
              "      <td>3</td>\n",
              "      <td>0.030008</td>\n",
              "      <td>0.999672</td>\n",
              "      <td>1.130602</td>\n",
              "      <td>1.130602</td>\n",
              "      <td>1.000000</td>\n",
              "      <td>0.999689</td>\n",
              "      <td>1.000000</td>\n",
              "      <td>0.999736</td>\n",
              "      <td>0.011303</td>\n",
              "      <td>0.033927</td>\n",
              "      <td>13.060211</td>\n",
              "      <td>13.060211</td>\n",
              "      <td>0.033927</td>\n",
              "    </tr>\n",
              "    <tr>\n",
              "      <th>3</th>\n",
              "      <td>4</td>\n",
              "      <td>0.040033</td>\n",
              "      <td>0.999639</td>\n",
              "      <td>1.130602</td>\n",
              "      <td>1.130602</td>\n",
              "      <td>1.000000</td>\n",
              "      <td>0.999655</td>\n",
              "      <td>1.000000</td>\n",
              "      <td>0.999716</td>\n",
              "      <td>0.011334</td>\n",
              "      <td>0.045261</td>\n",
              "      <td>13.060211</td>\n",
              "      <td>13.060211</td>\n",
              "      <td>0.045261</td>\n",
              "    </tr>\n",
              "    <tr>\n",
              "      <th>4</th>\n",
              "      <td>5</td>\n",
              "      <td>0.050030</td>\n",
              "      <td>0.999607</td>\n",
              "      <td>1.130602</td>\n",
              "      <td>1.130602</td>\n",
              "      <td>1.000000</td>\n",
              "      <td>0.999622</td>\n",
              "      <td>1.000000</td>\n",
              "      <td>0.999697</td>\n",
              "      <td>0.011303</td>\n",
              "      <td>0.056563</td>\n",
              "      <td>13.060211</td>\n",
              "      <td>13.060211</td>\n",
              "      <td>0.056563</td>\n",
              "    </tr>\n",
              "    <tr>\n",
              "      <th>5</th>\n",
              "      <td>6</td>\n",
              "      <td>0.100001</td>\n",
              "      <td>0.999449</td>\n",
              "      <td>1.130602</td>\n",
              "      <td>1.130602</td>\n",
              "      <td>1.000000</td>\n",
              "      <td>0.999530</td>\n",
              "      <td>1.000000</td>\n",
              "      <td>0.999614</td>\n",
              "      <td>0.056498</td>\n",
              "      <td>0.113061</td>\n",
              "      <td>13.060211</td>\n",
              "      <td>13.060211</td>\n",
              "      <td>0.113061</td>\n",
              "    </tr>\n",
              "    <tr>\n",
              "      <th>6</th>\n",
              "      <td>7</td>\n",
              "      <td>0.150034</td>\n",
              "      <td>0.999256</td>\n",
              "      <td>1.130525</td>\n",
              "      <td>1.130576</td>\n",
              "      <td>0.999932</td>\n",
              "      <td>0.999356</td>\n",
              "      <td>0.999977</td>\n",
              "      <td>0.999528</td>\n",
              "      <td>0.056563</td>\n",
              "      <td>0.169625</td>\n",
              "      <td>13.052496</td>\n",
              "      <td>13.057639</td>\n",
              "      <td>0.169595</td>\n",
              "    </tr>\n",
              "    <tr>\n",
              "      <th>7</th>\n",
              "      <td>8</td>\n",
              "      <td>0.200012</td>\n",
              "      <td>0.998991</td>\n",
              "      <td>1.130602</td>\n",
              "      <td>1.130583</td>\n",
              "      <td>1.000000</td>\n",
              "      <td>0.999134</td>\n",
              "      <td>0.999983</td>\n",
              "      <td>0.999429</td>\n",
              "      <td>0.056506</td>\n",
              "      <td>0.226130</td>\n",
              "      <td>13.060211</td>\n",
              "      <td>13.058281</td>\n",
              "      <td>0.226101</td>\n",
              "    </tr>\n",
              "    <tr>\n",
              "      <th>8</th>\n",
              "      <td>9</td>\n",
              "      <td>0.300000</td>\n",
              "      <td>0.997590</td>\n",
              "      <td>1.130332</td>\n",
              "      <td>1.130499</td>\n",
              "      <td>0.999761</td>\n",
              "      <td>0.998463</td>\n",
              "      <td>0.999909</td>\n",
              "      <td>0.999107</td>\n",
              "      <td>0.113019</td>\n",
              "      <td>0.339149</td>\n",
              "      <td>13.033187</td>\n",
              "      <td>13.049918</td>\n",
              "      <td>0.338913</td>\n",
              "    </tr>\n",
              "    <tr>\n",
              "      <th>9</th>\n",
              "      <td>10</td>\n",
              "      <td>0.400001</td>\n",
              "      <td>0.992692</td>\n",
              "      <td>1.129637</td>\n",
              "      <td>1.130284</td>\n",
              "      <td>0.999146</td>\n",
              "      <td>0.995410</td>\n",
              "      <td>0.999718</td>\n",
              "      <td>0.998183</td>\n",
              "      <td>0.112965</td>\n",
              "      <td>0.452114</td>\n",
              "      <td>12.963707</td>\n",
              "      <td>13.028365</td>\n",
              "      <td>0.451139</td>\n",
              "    </tr>\n",
              "    <tr>\n",
              "      <th>10</th>\n",
              "      <td>11</td>\n",
              "      <td>0.500002</td>\n",
              "      <td>0.986300</td>\n",
              "      <td>1.128132</td>\n",
              "      <td>1.129853</td>\n",
              "      <td>0.997815</td>\n",
              "      <td>0.989540</td>\n",
              "      <td>0.999338</td>\n",
              "      <td>0.996454</td>\n",
              "      <td>0.112814</td>\n",
              "      <td>0.564929</td>\n",
              "      <td>12.813161</td>\n",
              "      <td>12.985324</td>\n",
              "      <td>0.562062</td>\n",
              "    </tr>\n",
              "    <tr>\n",
              "      <th>11</th>\n",
              "      <td>12</td>\n",
              "      <td>0.600003</td>\n",
              "      <td>0.978967</td>\n",
              "      <td>1.123306</td>\n",
              "      <td>1.128762</td>\n",
              "      <td>0.993547</td>\n",
              "      <td>0.982769</td>\n",
              "      <td>0.998373</td>\n",
              "      <td>0.994173</td>\n",
              "      <td>0.112332</td>\n",
              "      <td>0.677260</td>\n",
              "      <td>12.330641</td>\n",
              "      <td>12.876209</td>\n",
              "      <td>0.668807</td>\n",
              "    </tr>\n",
              "    <tr>\n",
              "      <th>12</th>\n",
              "      <td>13</td>\n",
              "      <td>0.700000</td>\n",
              "      <td>0.969220</td>\n",
              "      <td>1.116551</td>\n",
              "      <td>1.127018</td>\n",
              "      <td>0.987572</td>\n",
              "      <td>0.974397</td>\n",
              "      <td>0.996830</td>\n",
              "      <td>0.991348</td>\n",
              "      <td>0.111652</td>\n",
              "      <td>0.788913</td>\n",
              "      <td>11.655065</td>\n",
              "      <td>12.701765</td>\n",
              "      <td>0.769701</td>\n",
              "    </tr>\n",
              "    <tr>\n",
              "      <th>13</th>\n",
              "      <td>14</td>\n",
              "      <td>0.799998</td>\n",
              "      <td>0.952066</td>\n",
              "      <td>1.100106</td>\n",
              "      <td>1.123654</td>\n",
              "      <td>0.973026</td>\n",
              "      <td>0.961723</td>\n",
              "      <td>0.993854</td>\n",
              "      <td>0.987645</td>\n",
              "      <td>0.110008</td>\n",
              "      <td>0.898921</td>\n",
              "      <td>10.010581</td>\n",
              "      <td>12.365374</td>\n",
              "      <td>0.856359</td>\n",
              "    </tr>\n",
              "    <tr>\n",
              "      <th>14</th>\n",
              "      <td>15</td>\n",
              "      <td>0.899999</td>\n",
              "      <td>0.628533</td>\n",
              "      <td>1.000901</td>\n",
              "      <td>1.110014</td>\n",
              "      <td>0.885281</td>\n",
              "      <td>0.913838</td>\n",
              "      <td>0.981790</td>\n",
              "      <td>0.979444</td>\n",
              "      <td>0.100091</td>\n",
              "      <td>0.999012</td>\n",
              "      <td>0.090075</td>\n",
              "      <td>11.001436</td>\n",
              "      <td>0.857138</td>\n",
              "    </tr>\n",
              "    <tr>\n",
              "      <th>15</th>\n",
              "      <td>16</td>\n",
              "      <td>1.000000</td>\n",
              "      <td>0.000004</td>\n",
              "      <td>0.009882</td>\n",
              "      <td>1.000000</td>\n",
              "      <td>0.008740</td>\n",
              "      <td>0.027676</td>\n",
              "      <td>0.884484</td>\n",
              "      <td>0.884267</td>\n",
              "      <td>0.000988</td>\n",
              "      <td>1.000000</td>\n",
              "      <td>-99.011799</td>\n",
              "      <td>0.000000</td>\n",
              "      <td>0.000000</td>\n",
              "    </tr>\n",
              "  </tbody>\n",
              "</table>\n",
              "</div>"
            ],
            "text/plain": [
              "    group  cumulative_data_fraction  ...  cumulative_gain  kolmogorov_smirnov\n",
              "0       1                  0.010018  ...        13.060211            0.011326\n",
              "1       2                  0.020011  ...        13.060211            0.022625\n",
              "2       3                  0.030008  ...        13.060211            0.033927\n",
              "3       4                  0.040033  ...        13.060211            0.045261\n",
              "4       5                  0.050030  ...        13.060211            0.056563\n",
              "5       6                  0.100001  ...        13.060211            0.113061\n",
              "6       7                  0.150034  ...        13.057639            0.169595\n",
              "7       8                  0.200012  ...        13.058281            0.226101\n",
              "8       9                  0.300000  ...        13.049918            0.338913\n",
              "9      10                  0.400001  ...        13.028365            0.451139\n",
              "10     11                  0.500002  ...        12.985324            0.562062\n",
              "11     12                  0.600003  ...        12.876209            0.668807\n",
              "12     13                  0.700000  ...        12.701765            0.769701\n",
              "13     14                  0.799998  ...        12.365374            0.856359\n",
              "14     15                  0.899999  ...        11.001436            0.857138\n",
              "15     16                  1.000000  ...         0.000000            0.000000\n",
              "\n",
              "[16 rows x 14 columns]"
            ]
          },
          "metadata": {
            "tags": []
          }
        },
        {
          "output_type": "stream",
          "text": [
            "\n",
            "\n",
            "ModelMetricsBinomial: xgboost\n",
            "** Reported on validation data. **\n",
            "\n",
            "MSE: 0.01698263950238537\n",
            "RMSE: 0.1303174566295144\n",
            "LogLoss: 0.07420553543158213\n",
            "Mean Per-Class Error: 0.06835525917611651\n",
            "AUC: 0.9742086509384656\n",
            "AUCPR: 0.995906518227226\n",
            "Gini: 0.9484173018769313\n",
            "\n",
            "Confusion Matrix (Act/Pred) for max f1 @ threshold = 0.6392362415790558: \n"
          ],
          "name": "stdout"
        },
        {
          "output_type": "display_data",
          "data": {
            "text/html": [
              "<div>\n",
              "<style scoped>\n",
              "    .dataframe tbody tr th:only-of-type {\n",
              "        vertical-align: middle;\n",
              "    }\n",
              "\n",
              "    .dataframe tbody tr th {\n",
              "        vertical-align: top;\n",
              "    }\n",
              "\n",
              "    .dataframe thead th {\n",
              "        text-align: right;\n",
              "    }\n",
              "</style>\n",
              "<table border=\"1\" class=\"dataframe\">\n",
              "  <thead>\n",
              "    <tr style=\"text-align: right;\">\n",
              "      <th></th>\n",
              "      <th></th>\n",
              "      <th>0</th>\n",
              "      <th>1</th>\n",
              "      <th>Error</th>\n",
              "      <th>Rate</th>\n",
              "    </tr>\n",
              "  </thead>\n",
              "  <tbody>\n",
              "    <tr>\n",
              "      <th>0</th>\n",
              "      <td>0</td>\n",
              "      <td>6846.0</td>\n",
              "      <td>1191.0</td>\n",
              "      <td>0.1482</td>\n",
              "      <td>(1191.0/8037.0)</td>\n",
              "    </tr>\n",
              "    <tr>\n",
              "      <th>1</th>\n",
              "      <td>1</td>\n",
              "      <td>97.0</td>\n",
              "      <td>61775.0</td>\n",
              "      <td>0.0016</td>\n",
              "      <td>(97.0/61872.0)</td>\n",
              "    </tr>\n",
              "    <tr>\n",
              "      <th>2</th>\n",
              "      <td>Total</td>\n",
              "      <td>6943.0</td>\n",
              "      <td>62966.0</td>\n",
              "      <td>0.0184</td>\n",
              "      <td>(1288.0/69909.0)</td>\n",
              "    </tr>\n",
              "  </tbody>\n",
              "</table>\n",
              "</div>"
            ],
            "text/plain": [
              "               0        1   Error               Rate\n",
              "0      0  6846.0   1191.0  0.1482    (1191.0/8037.0)\n",
              "1      1    97.0  61775.0  0.0016     (97.0/61872.0)\n",
              "2  Total  6943.0  62966.0  0.0184   (1288.0/69909.0)"
            ]
          },
          "metadata": {
            "tags": []
          }
        },
        {
          "output_type": "stream",
          "text": [
            "\n",
            "Maximum Metrics: Maximum metrics at their respective thresholds\n"
          ],
          "name": "stdout"
        },
        {
          "output_type": "display_data",
          "data": {
            "text/html": [
              "<div>\n",
              "<style scoped>\n",
              "    .dataframe tbody tr th:only-of-type {\n",
              "        vertical-align: middle;\n",
              "    }\n",
              "\n",
              "    .dataframe tbody tr th {\n",
              "        vertical-align: top;\n",
              "    }\n",
              "\n",
              "    .dataframe thead th {\n",
              "        text-align: right;\n",
              "    }\n",
              "</style>\n",
              "<table border=\"1\" class=\"dataframe\">\n",
              "  <thead>\n",
              "    <tr style=\"text-align: right;\">\n",
              "      <th></th>\n",
              "      <th>metric</th>\n",
              "      <th>threshold</th>\n",
              "      <th>value</th>\n",
              "      <th>idx</th>\n",
              "    </tr>\n",
              "  </thead>\n",
              "  <tbody>\n",
              "    <tr>\n",
              "      <th>0</th>\n",
              "      <td>max f1</td>\n",
              "      <td>0.639236</td>\n",
              "      <td>0.989683</td>\n",
              "      <td>256.0</td>\n",
              "    </tr>\n",
              "    <tr>\n",
              "      <th>1</th>\n",
              "      <td>max f2</td>\n",
              "      <td>0.329556</td>\n",
              "      <td>0.995439</td>\n",
              "      <td>308.0</td>\n",
              "    </tr>\n",
              "    <tr>\n",
              "      <th>2</th>\n",
              "      <td>max f0point5</td>\n",
              "      <td>0.838905</td>\n",
              "      <td>0.985096</td>\n",
              "      <td>206.0</td>\n",
              "    </tr>\n",
              "    <tr>\n",
              "      <th>3</th>\n",
              "      <td>max accuracy</td>\n",
              "      <td>0.643008</td>\n",
              "      <td>0.981576</td>\n",
              "      <td>255.0</td>\n",
              "    </tr>\n",
              "    <tr>\n",
              "      <th>4</th>\n",
              "      <td>max precision</td>\n",
              "      <td>0.999719</td>\n",
              "      <td>1.000000</td>\n",
              "      <td>0.0</td>\n",
              "    </tr>\n",
              "    <tr>\n",
              "      <th>5</th>\n",
              "      <td>max recall</td>\n",
              "      <td>0.013870</td>\n",
              "      <td>1.000000</td>\n",
              "      <td>382.0</td>\n",
              "    </tr>\n",
              "    <tr>\n",
              "      <th>6</th>\n",
              "      <td>max specificity</td>\n",
              "      <td>0.999719</td>\n",
              "      <td>1.000000</td>\n",
              "      <td>0.0</td>\n",
              "    </tr>\n",
              "    <tr>\n",
              "      <th>7</th>\n",
              "      <td>max absolute_mcc</td>\n",
              "      <td>0.639236</td>\n",
              "      <td>0.906797</td>\n",
              "      <td>256.0</td>\n",
              "    </tr>\n",
              "    <tr>\n",
              "      <th>8</th>\n",
              "      <td>max min_per_class_accuracy</td>\n",
              "      <td>0.947572</td>\n",
              "      <td>0.912156</td>\n",
              "      <td>119.0</td>\n",
              "    </tr>\n",
              "    <tr>\n",
              "      <th>9</th>\n",
              "      <td>max mean_per_class_accuracy</td>\n",
              "      <td>0.856795</td>\n",
              "      <td>0.931645</td>\n",
              "      <td>198.0</td>\n",
              "    </tr>\n",
              "    <tr>\n",
              "      <th>10</th>\n",
              "      <td>max tns</td>\n",
              "      <td>0.999719</td>\n",
              "      <td>8037.000000</td>\n",
              "      <td>0.0</td>\n",
              "    </tr>\n",
              "    <tr>\n",
              "      <th>11</th>\n",
              "      <td>max fns</td>\n",
              "      <td>0.999719</td>\n",
              "      <td>59550.000000</td>\n",
              "      <td>0.0</td>\n",
              "    </tr>\n",
              "    <tr>\n",
              "      <th>12</th>\n",
              "      <td>max fps</td>\n",
              "      <td>0.000106</td>\n",
              "      <td>8037.000000</td>\n",
              "      <td>399.0</td>\n",
              "    </tr>\n",
              "    <tr>\n",
              "      <th>13</th>\n",
              "      <td>max tps</td>\n",
              "      <td>0.013870</td>\n",
              "      <td>61872.000000</td>\n",
              "      <td>382.0</td>\n",
              "    </tr>\n",
              "    <tr>\n",
              "      <th>14</th>\n",
              "      <td>max tnr</td>\n",
              "      <td>0.999719</td>\n",
              "      <td>1.000000</td>\n",
              "      <td>0.0</td>\n",
              "    </tr>\n",
              "    <tr>\n",
              "      <th>15</th>\n",
              "      <td>max fnr</td>\n",
              "      <td>0.999719</td>\n",
              "      <td>0.962471</td>\n",
              "      <td>0.0</td>\n",
              "    </tr>\n",
              "    <tr>\n",
              "      <th>16</th>\n",
              "      <td>max fpr</td>\n",
              "      <td>0.000106</td>\n",
              "      <td>1.000000</td>\n",
              "      <td>399.0</td>\n",
              "    </tr>\n",
              "    <tr>\n",
              "      <th>17</th>\n",
              "      <td>max tpr</td>\n",
              "      <td>0.013870</td>\n",
              "      <td>1.000000</td>\n",
              "      <td>382.0</td>\n",
              "    </tr>\n",
              "  </tbody>\n",
              "</table>\n",
              "</div>"
            ],
            "text/plain": [
              "                         metric  threshold         value    idx\n",
              "0                        max f1   0.639236      0.989683  256.0\n",
              "1                        max f2   0.329556      0.995439  308.0\n",
              "2                  max f0point5   0.838905      0.985096  206.0\n",
              "3                  max accuracy   0.643008      0.981576  255.0\n",
              "4                 max precision   0.999719      1.000000    0.0\n",
              "5                    max recall   0.013870      1.000000  382.0\n",
              "6               max specificity   0.999719      1.000000    0.0\n",
              "7              max absolute_mcc   0.639236      0.906797  256.0\n",
              "8    max min_per_class_accuracy   0.947572      0.912156  119.0\n",
              "9   max mean_per_class_accuracy   0.856795      0.931645  198.0\n",
              "10                      max tns   0.999719   8037.000000    0.0\n",
              "11                      max fns   0.999719  59550.000000    0.0\n",
              "12                      max fps   0.000106   8037.000000  399.0\n",
              "13                      max tps   0.013870  61872.000000  382.0\n",
              "14                      max tnr   0.999719      1.000000    0.0\n",
              "15                      max fnr   0.999719      0.962471    0.0\n",
              "16                      max fpr   0.000106      1.000000  399.0\n",
              "17                      max tpr   0.013870      1.000000  382.0"
            ]
          },
          "metadata": {
            "tags": []
          }
        },
        {
          "output_type": "stream",
          "text": [
            "\n",
            "Gains/Lift Table: Avg response rate: 88.50 %, avg score: 88.50 %\n"
          ],
          "name": "stdout"
        },
        {
          "output_type": "display_data",
          "data": {
            "text/html": [
              "<div>\n",
              "<style scoped>\n",
              "    .dataframe tbody tr th:only-of-type {\n",
              "        vertical-align: middle;\n",
              "    }\n",
              "\n",
              "    .dataframe tbody tr th {\n",
              "        vertical-align: top;\n",
              "    }\n",
              "\n",
              "    .dataframe thead th {\n",
              "        text-align: right;\n",
              "    }\n",
              "</style>\n",
              "<table border=\"1\" class=\"dataframe\">\n",
              "  <thead>\n",
              "    <tr style=\"text-align: right;\">\n",
              "      <th></th>\n",
              "      <th>group</th>\n",
              "      <th>cumulative_data_fraction</th>\n",
              "      <th>lower_threshold</th>\n",
              "      <th>lift</th>\n",
              "      <th>cumulative_lift</th>\n",
              "      <th>response_rate</th>\n",
              "      <th>score</th>\n",
              "      <th>cumulative_response_rate</th>\n",
              "      <th>cumulative_score</th>\n",
              "      <th>capture_rate</th>\n",
              "      <th>cumulative_capture_rate</th>\n",
              "      <th>gain</th>\n",
              "      <th>cumulative_gain</th>\n",
              "      <th>kolmogorov_smirnov</th>\n",
              "    </tr>\n",
              "  </thead>\n",
              "  <tbody>\n",
              "    <tr>\n",
              "      <th>0</th>\n",
              "      <td>1</td>\n",
              "      <td>0.010070</td>\n",
              "      <td>0.999752</td>\n",
              "      <td>1.129897</td>\n",
              "      <td>1.129897</td>\n",
              "      <td>1.000000</td>\n",
              "      <td>0.999788</td>\n",
              "      <td>1.000000</td>\n",
              "      <td>0.999788</td>\n",
              "      <td>0.011378</td>\n",
              "      <td>0.011378</td>\n",
              "      <td>12.989721</td>\n",
              "      <td>12.989721</td>\n",
              "      <td>0.011378</td>\n",
              "    </tr>\n",
              "    <tr>\n",
              "      <th>1</th>\n",
              "      <td>2</td>\n",
              "      <td>0.020012</td>\n",
              "      <td>0.999707</td>\n",
              "      <td>1.129897</td>\n",
              "      <td>1.129897</td>\n",
              "      <td>1.000000</td>\n",
              "      <td>0.999729</td>\n",
              "      <td>1.000000</td>\n",
              "      <td>0.999759</td>\n",
              "      <td>0.011233</td>\n",
              "      <td>0.022611</td>\n",
              "      <td>12.989721</td>\n",
              "      <td>12.989721</td>\n",
              "      <td>0.022611</td>\n",
              "    </tr>\n",
              "    <tr>\n",
              "      <th>2</th>\n",
              "      <td>3</td>\n",
              "      <td>0.030053</td>\n",
              "      <td>0.999674</td>\n",
              "      <td>1.129897</td>\n",
              "      <td>1.129897</td>\n",
              "      <td>1.000000</td>\n",
              "      <td>0.999690</td>\n",
              "      <td>1.000000</td>\n",
              "      <td>0.999736</td>\n",
              "      <td>0.011346</td>\n",
              "      <td>0.033957</td>\n",
              "      <td>12.989721</td>\n",
              "      <td>12.989721</td>\n",
              "      <td>0.033957</td>\n",
              "    </tr>\n",
              "    <tr>\n",
              "      <th>3</th>\n",
              "      <td>4</td>\n",
              "      <td>0.040009</td>\n",
              "      <td>0.999640</td>\n",
              "      <td>1.129897</td>\n",
              "      <td>1.129897</td>\n",
              "      <td>1.000000</td>\n",
              "      <td>0.999655</td>\n",
              "      <td>1.000000</td>\n",
              "      <td>0.999716</td>\n",
              "      <td>0.011249</td>\n",
              "      <td>0.045206</td>\n",
              "      <td>12.989721</td>\n",
              "      <td>12.989721</td>\n",
              "      <td>0.045206</td>\n",
              "    </tr>\n",
              "    <tr>\n",
              "      <th>4</th>\n",
              "      <td>5</td>\n",
              "      <td>0.050008</td>\n",
              "      <td>0.999607</td>\n",
              "      <td>1.129897</td>\n",
              "      <td>1.129897</td>\n",
              "      <td>1.000000</td>\n",
              "      <td>0.999624</td>\n",
              "      <td>1.000000</td>\n",
              "      <td>0.999697</td>\n",
              "      <td>0.011298</td>\n",
              "      <td>0.056504</td>\n",
              "      <td>12.989721</td>\n",
              "      <td>12.989721</td>\n",
              "      <td>0.056504</td>\n",
              "    </tr>\n",
              "    <tr>\n",
              "      <th>5</th>\n",
              "      <td>6</td>\n",
              "      <td>0.100001</td>\n",
              "      <td>0.999447</td>\n",
              "      <td>1.129897</td>\n",
              "      <td>1.129897</td>\n",
              "      <td>1.000000</td>\n",
              "      <td>0.999528</td>\n",
              "      <td>1.000000</td>\n",
              "      <td>0.999613</td>\n",
              "      <td>0.056488</td>\n",
              "      <td>0.112991</td>\n",
              "      <td>12.989721</td>\n",
              "      <td>12.989721</td>\n",
              "      <td>0.112991</td>\n",
              "    </tr>\n",
              "    <tr>\n",
              "      <th>6</th>\n",
              "      <td>7</td>\n",
              "      <td>0.150038</td>\n",
              "      <td>0.999252</td>\n",
              "      <td>1.129897</td>\n",
              "      <td>1.129897</td>\n",
              "      <td>1.000000</td>\n",
              "      <td>0.999354</td>\n",
              "      <td>1.000000</td>\n",
              "      <td>0.999527</td>\n",
              "      <td>0.056536</td>\n",
              "      <td>0.169527</td>\n",
              "      <td>12.989721</td>\n",
              "      <td>12.989721</td>\n",
              "      <td>0.169527</td>\n",
              "    </tr>\n",
              "    <tr>\n",
              "      <th>7</th>\n",
              "      <td>8</td>\n",
              "      <td>0.200017</td>\n",
              "      <td>0.998984</td>\n",
              "      <td>1.129897</td>\n",
              "      <td>1.129897</td>\n",
              "      <td>1.000000</td>\n",
              "      <td>0.999127</td>\n",
              "      <td>1.000000</td>\n",
              "      <td>0.999427</td>\n",
              "      <td>0.056471</td>\n",
              "      <td>0.225999</td>\n",
              "      <td>12.989721</td>\n",
              "      <td>12.989721</td>\n",
              "      <td>0.225999</td>\n",
              "    </tr>\n",
              "    <tr>\n",
              "      <th>8</th>\n",
              "      <td>9</td>\n",
              "      <td>0.300004</td>\n",
              "      <td>0.997544</td>\n",
              "      <td>1.129089</td>\n",
              "      <td>1.129628</td>\n",
              "      <td>0.999285</td>\n",
              "      <td>0.998447</td>\n",
              "      <td>0.999762</td>\n",
              "      <td>0.999100</td>\n",
              "      <td>0.112894</td>\n",
              "      <td>0.338893</td>\n",
              "      <td>12.908898</td>\n",
              "      <td>12.962784</td>\n",
              "      <td>0.338271</td>\n",
              "    </tr>\n",
              "    <tr>\n",
              "      <th>9</th>\n",
              "      <td>10</td>\n",
              "      <td>0.400006</td>\n",
              "      <td>0.992566</td>\n",
              "      <td>1.125695</td>\n",
              "      <td>1.128645</td>\n",
              "      <td>0.996281</td>\n",
              "      <td>0.995338</td>\n",
              "      <td>0.998891</td>\n",
              "      <td>0.998160</td>\n",
              "      <td>0.112571</td>\n",
              "      <td>0.451464</td>\n",
              "      <td>12.569504</td>\n",
              "      <td>12.864464</td>\n",
              "      <td>0.447607</td>\n",
              "    </tr>\n",
              "    <tr>\n",
              "      <th>10</th>\n",
              "      <td>11</td>\n",
              "      <td>0.500007</td>\n",
              "      <td>0.986227</td>\n",
              "      <td>1.118099</td>\n",
              "      <td>1.126535</td>\n",
              "      <td>0.989558</td>\n",
              "      <td>0.989467</td>\n",
              "      <td>0.997025</td>\n",
              "      <td>0.996421</td>\n",
              "      <td>0.111811</td>\n",
              "      <td>0.563276</td>\n",
              "      <td>11.809882</td>\n",
              "      <td>12.653548</td>\n",
              "      <td>0.550336</td>\n",
              "    </tr>\n",
              "    <tr>\n",
              "      <th>11</th>\n",
              "      <td>12</td>\n",
              "      <td>0.599994</td>\n",
              "      <td>0.978846</td>\n",
              "      <td>1.109692</td>\n",
              "      <td>1.123728</td>\n",
              "      <td>0.982117</td>\n",
              "      <td>0.982706</td>\n",
              "      <td>0.994540</td>\n",
              "      <td>0.994136</td>\n",
              "      <td>0.110955</td>\n",
              "      <td>0.674231</td>\n",
              "      <td>10.969161</td>\n",
              "      <td>12.372850</td>\n",
              "      <td>0.645737</td>\n",
              "    </tr>\n",
              "    <tr>\n",
              "      <th>12</th>\n",
              "      <td>13</td>\n",
              "      <td>0.699996</td>\n",
              "      <td>0.969117</td>\n",
              "      <td>1.102583</td>\n",
              "      <td>1.120708</td>\n",
              "      <td>0.975826</td>\n",
              "      <td>0.974253</td>\n",
              "      <td>0.991867</td>\n",
              "      <td>0.991295</td>\n",
              "      <td>0.110260</td>\n",
              "      <td>0.784491</td>\n",
              "      <td>10.258314</td>\n",
              "      <td>12.070767</td>\n",
              "      <td>0.734970</td>\n",
              "    </tr>\n",
              "    <tr>\n",
              "      <th>13</th>\n",
              "      <td>14</td>\n",
              "      <td>0.799997</td>\n",
              "      <td>0.952139</td>\n",
              "      <td>1.087067</td>\n",
              "      <td>1.116503</td>\n",
              "      <td>0.962094</td>\n",
              "      <td>0.961765</td>\n",
              "      <td>0.988145</td>\n",
              "      <td>0.987604</td>\n",
              "      <td>0.108708</td>\n",
              "      <td>0.893199</td>\n",
              "      <td>8.706746</td>\n",
              "      <td>11.650257</td>\n",
              "      <td>0.810705</td>\n",
              "    </tr>\n",
              "    <tr>\n",
              "      <th>14</th>\n",
              "      <td>15</td>\n",
              "      <td>0.899999</td>\n",
              "      <td>0.680976</td>\n",
              "      <td>1.048278</td>\n",
              "      <td>1.108922</td>\n",
              "      <td>0.927764</td>\n",
              "      <td>0.917098</td>\n",
              "      <td>0.981436</td>\n",
              "      <td>0.979770</td>\n",
              "      <td>0.104829</td>\n",
              "      <td>0.998028</td>\n",
              "      <td>4.827826</td>\n",
              "      <td>10.892197</td>\n",
              "      <td>0.852700</td>\n",
              "    </tr>\n",
              "    <tr>\n",
              "      <th>15</th>\n",
              "      <td>16</td>\n",
              "      <td>1.000000</td>\n",
              "      <td>0.000005</td>\n",
              "      <td>0.019718</td>\n",
              "      <td>1.000000</td>\n",
              "      <td>0.017451</td>\n",
              "      <td>0.031923</td>\n",
              "      <td>0.885036</td>\n",
              "      <td>0.884984</td>\n",
              "      <td>0.001972</td>\n",
              "      <td>1.000000</td>\n",
              "      <td>-98.028215</td>\n",
              "      <td>0.000000</td>\n",
              "      <td>0.000000</td>\n",
              "    </tr>\n",
              "  </tbody>\n",
              "</table>\n",
              "</div>"
            ],
            "text/plain": [
              "    group  cumulative_data_fraction  ...  cumulative_gain  kolmogorov_smirnov\n",
              "0       1                  0.010070  ...        12.989721            0.011378\n",
              "1       2                  0.020012  ...        12.989721            0.022611\n",
              "2       3                  0.030053  ...        12.989721            0.033957\n",
              "3       4                  0.040009  ...        12.989721            0.045206\n",
              "4       5                  0.050008  ...        12.989721            0.056504\n",
              "5       6                  0.100001  ...        12.989721            0.112991\n",
              "6       7                  0.150038  ...        12.989721            0.169527\n",
              "7       8                  0.200017  ...        12.989721            0.225999\n",
              "8       9                  0.300004  ...        12.962784            0.338271\n",
              "9      10                  0.400006  ...        12.864464            0.447607\n",
              "10     11                  0.500007  ...        12.653548            0.550336\n",
              "11     12                  0.599994  ...        12.372850            0.645737\n",
              "12     13                  0.699996  ...        12.070767            0.734970\n",
              "13     14                  0.799997  ...        11.650257            0.810705\n",
              "14     15                  0.899999  ...        10.892197            0.852700\n",
              "15     16                  1.000000  ...         0.000000            0.000000\n",
              "\n",
              "[16 rows x 14 columns]"
            ]
          },
          "metadata": {
            "tags": []
          }
        },
        {
          "output_type": "stream",
          "text": [
            "\n",
            "\n",
            "Scoring History: \n"
          ],
          "name": "stdout"
        },
        {
          "output_type": "display_data",
          "data": {
            "text/html": [
              "<div>\n",
              "<style scoped>\n",
              "    .dataframe tbody tr th:only-of-type {\n",
              "        vertical-align: middle;\n",
              "    }\n",
              "\n",
              "    .dataframe tbody tr th {\n",
              "        vertical-align: top;\n",
              "    }\n",
              "\n",
              "    .dataframe thead th {\n",
              "        text-align: right;\n",
              "    }\n",
              "</style>\n",
              "<table border=\"1\" class=\"dataframe\">\n",
              "  <thead>\n",
              "    <tr style=\"text-align: right;\">\n",
              "      <th></th>\n",
              "      <th></th>\n",
              "      <th>timestamp</th>\n",
              "      <th>duration</th>\n",
              "      <th>number_of_trees</th>\n",
              "      <th>training_rmse</th>\n",
              "      <th>training_logloss</th>\n",
              "      <th>training_auc</th>\n",
              "      <th>training_pr_auc</th>\n",
              "      <th>training_lift</th>\n",
              "      <th>training_classification_error</th>\n",
              "      <th>validation_rmse</th>\n",
              "      <th>validation_logloss</th>\n",
              "      <th>validation_auc</th>\n",
              "      <th>validation_pr_auc</th>\n",
              "      <th>validation_lift</th>\n",
              "      <th>validation_classification_error</th>\n",
              "    </tr>\n",
              "  </thead>\n",
              "  <tbody>\n",
              "    <tr>\n",
              "      <th>0</th>\n",
              "      <td></td>\n",
              "      <td>2020-08-28 13:48:39</td>\n",
              "      <td>0.021 sec</td>\n",
              "      <td>0.0</td>\n",
              "      <td>0.500000</td>\n",
              "      <td>0.693147</td>\n",
              "      <td>0.500000</td>\n",
              "      <td>0.884484</td>\n",
              "      <td>1.000000</td>\n",
              "      <td>0.115516</td>\n",
              "      <td>0.500000</td>\n",
              "      <td>0.693147</td>\n",
              "      <td>0.500000</td>\n",
              "      <td>0.885036</td>\n",
              "      <td>1.000000</td>\n",
              "      <td>0.114964</td>\n",
              "    </tr>\n",
              "    <tr>\n",
              "      <th>1</th>\n",
              "      <td></td>\n",
              "      <td>2020-08-28 13:48:49</td>\n",
              "      <td>9.681 sec</td>\n",
              "      <td>5.0</td>\n",
              "      <td>0.174066</td>\n",
              "      <td>0.166526</td>\n",
              "      <td>0.968710</td>\n",
              "      <td>0.994871</td>\n",
              "      <td>1.130474</td>\n",
              "      <td>0.021332</td>\n",
              "      <td>0.174245</td>\n",
              "      <td>0.166688</td>\n",
              "      <td>0.966210</td>\n",
              "      <td>0.994346</td>\n",
              "      <td>1.129357</td>\n",
              "      <td>0.021600</td>\n",
              "    </tr>\n",
              "    <tr>\n",
              "      <th>2</th>\n",
              "      <td></td>\n",
              "      <td>2020-08-28 13:48:56</td>\n",
              "      <td>17.262 sec</td>\n",
              "      <td>10.0</td>\n",
              "      <td>0.140272</td>\n",
              "      <td>0.096044</td>\n",
              "      <td>0.975290</td>\n",
              "      <td>0.996049</td>\n",
              "      <td>1.130602</td>\n",
              "      <td>0.020127</td>\n",
              "      <td>0.141526</td>\n",
              "      <td>0.097783</td>\n",
              "      <td>0.969927</td>\n",
              "      <td>0.995107</td>\n",
              "      <td>1.129897</td>\n",
              "      <td>0.020741</td>\n",
              "    </tr>\n",
              "    <tr>\n",
              "      <th>3</th>\n",
              "      <td></td>\n",
              "      <td>2020-08-28 13:49:04</td>\n",
              "      <td>25.078 sec</td>\n",
              "      <td>15.0</td>\n",
              "      <td>0.133950</td>\n",
              "      <td>0.079532</td>\n",
              "      <td>0.978908</td>\n",
              "      <td>0.996691</td>\n",
              "      <td>1.130602</td>\n",
              "      <td>0.019089</td>\n",
              "      <td>0.135884</td>\n",
              "      <td>0.082776</td>\n",
              "      <td>0.971851</td>\n",
              "      <td>0.995481</td>\n",
              "      <td>1.129897</td>\n",
              "      <td>0.019697</td>\n",
              "    </tr>\n",
              "    <tr>\n",
              "      <th>4</th>\n",
              "      <td></td>\n",
              "      <td>2020-08-28 13:49:12</td>\n",
              "      <td>32.404 sec</td>\n",
              "      <td>20.0</td>\n",
              "      <td>0.130559</td>\n",
              "      <td>0.073219</td>\n",
              "      <td>0.981084</td>\n",
              "      <td>0.997071</td>\n",
              "      <td>1.130602</td>\n",
              "      <td>0.018478</td>\n",
              "      <td>0.133204</td>\n",
              "      <td>0.077651</td>\n",
              "      <td>0.973379</td>\n",
              "      <td>0.995772</td>\n",
              "      <td>1.129897</td>\n",
              "      <td>0.019025</td>\n",
              "    </tr>\n",
              "    <tr>\n",
              "      <th>5</th>\n",
              "      <td></td>\n",
              "      <td>2020-08-28 13:49:19</td>\n",
              "      <td>40.096 sec</td>\n",
              "      <td>25.0</td>\n",
              "      <td>0.128702</td>\n",
              "      <td>0.070374</td>\n",
              "      <td>0.982752</td>\n",
              "      <td>0.997351</td>\n",
              "      <td>1.130602</td>\n",
              "      <td>0.018021</td>\n",
              "      <td>0.132073</td>\n",
              "      <td>0.076144</td>\n",
              "      <td>0.973872</td>\n",
              "      <td>0.995849</td>\n",
              "      <td>1.129897</td>\n",
              "      <td>0.018739</td>\n",
              "    </tr>\n",
              "    <tr>\n",
              "      <th>6</th>\n",
              "      <td></td>\n",
              "      <td>2020-08-28 13:49:27</td>\n",
              "      <td>47.759 sec</td>\n",
              "      <td>30.0</td>\n",
              "      <td>0.127424</td>\n",
              "      <td>0.068553</td>\n",
              "      <td>0.983898</td>\n",
              "      <td>0.997540</td>\n",
              "      <td>1.130602</td>\n",
              "      <td>0.017806</td>\n",
              "      <td>0.131492</td>\n",
              "      <td>0.075507</td>\n",
              "      <td>0.973900</td>\n",
              "      <td>0.995863</td>\n",
              "      <td>1.129897</td>\n",
              "      <td>0.018567</td>\n",
              "    </tr>\n",
              "    <tr>\n",
              "      <th>7</th>\n",
              "      <td></td>\n",
              "      <td>2020-08-28 13:49:34</td>\n",
              "      <td>55.146 sec</td>\n",
              "      <td>35.0</td>\n",
              "      <td>0.125319</td>\n",
              "      <td>0.065711</td>\n",
              "      <td>0.985810</td>\n",
              "      <td>0.997853</td>\n",
              "      <td>1.130602</td>\n",
              "      <td>0.017430</td>\n",
              "      <td>0.130475</td>\n",
              "      <td>0.074510</td>\n",
              "      <td>0.973944</td>\n",
              "      <td>0.995867</td>\n",
              "      <td>1.129897</td>\n",
              "      <td>0.018467</td>\n",
              "    </tr>\n",
              "    <tr>\n",
              "      <th>8</th>\n",
              "      <td></td>\n",
              "      <td>2020-08-28 13:49:42</td>\n",
              "      <td>1 min  2.835 sec</td>\n",
              "      <td>40.0</td>\n",
              "      <td>0.123979</td>\n",
              "      <td>0.063867</td>\n",
              "      <td>0.987158</td>\n",
              "      <td>0.998062</td>\n",
              "      <td>1.130602</td>\n",
              "      <td>0.017174</td>\n",
              "      <td>0.130317</td>\n",
              "      <td>0.074206</td>\n",
              "      <td>0.974209</td>\n",
              "      <td>0.995907</td>\n",
              "      <td>1.129897</td>\n",
              "      <td>0.018424</td>\n",
              "    </tr>\n",
              "  </tbody>\n",
              "</table>\n",
              "</div>"
            ],
            "text/plain": [
              "               timestamp  ... validation_lift  validation_classification_error\n",
              "0    2020-08-28 13:48:39  ...        1.000000                         0.114964\n",
              "1    2020-08-28 13:48:49  ...        1.129357                         0.021600\n",
              "2    2020-08-28 13:48:56  ...        1.129897                         0.020741\n",
              "3    2020-08-28 13:49:04  ...        1.129897                         0.019697\n",
              "4    2020-08-28 13:49:12  ...        1.129897                         0.019025\n",
              "5    2020-08-28 13:49:19  ...        1.129897                         0.018739\n",
              "6    2020-08-28 13:49:27  ...        1.129897                         0.018567\n",
              "7    2020-08-28 13:49:34  ...        1.129897                         0.018467\n",
              "8    2020-08-28 13:49:42  ...        1.129897                         0.018424\n",
              "\n",
              "[9 rows x 16 columns]"
            ]
          },
          "metadata": {
            "tags": []
          }
        },
        {
          "output_type": "stream",
          "text": [
            "\n",
            "Variable Importances: \n"
          ],
          "name": "stdout"
        },
        {
          "output_type": "display_data",
          "data": {
            "text/html": [
              "<div>\n",
              "<style scoped>\n",
              "    .dataframe tbody tr th:only-of-type {\n",
              "        vertical-align: middle;\n",
              "    }\n",
              "\n",
              "    .dataframe tbody tr th {\n",
              "        vertical-align: top;\n",
              "    }\n",
              "\n",
              "    .dataframe thead th {\n",
              "        text-align: right;\n",
              "    }\n",
              "</style>\n",
              "<table border=\"1\" class=\"dataframe\">\n",
              "  <thead>\n",
              "    <tr style=\"text-align: right;\">\n",
              "      <th></th>\n",
              "      <th>variable</th>\n",
              "      <th>relative_importance</th>\n",
              "      <th>scaled_importance</th>\n",
              "      <th>percentage</th>\n",
              "    </tr>\n",
              "  </thead>\n",
              "  <tbody>\n",
              "    <tr>\n",
              "      <th>0</th>\n",
              "      <td>funded_amnt</td>\n",
              "      <td>39706.429688</td>\n",
              "      <td>1.000000</td>\n",
              "      <td>0.168862</td>\n",
              "    </tr>\n",
              "    <tr>\n",
              "      <th>1</th>\n",
              "      <td>total_rec_prncp</td>\n",
              "      <td>35257.453125</td>\n",
              "      <td>0.887953</td>\n",
              "      <td>0.149941</td>\n",
              "    </tr>\n",
              "    <tr>\n",
              "      <th>2</th>\n",
              "      <td>last_pymnt_amnt</td>\n",
              "      <td>28465.099609</td>\n",
              "      <td>0.716889</td>\n",
              "      <td>0.121055</td>\n",
              "    </tr>\n",
              "    <tr>\n",
              "      <th>3</th>\n",
              "      <td>out_prncp_inv</td>\n",
              "      <td>26987.607422</td>\n",
              "      <td>0.679679</td>\n",
              "      <td>0.114772</td>\n",
              "    </tr>\n",
              "    <tr>\n",
              "      <th>4</th>\n",
              "      <td>out_prncp</td>\n",
              "      <td>25885.820312</td>\n",
              "      <td>0.651930</td>\n",
              "      <td>0.110086</td>\n",
              "    </tr>\n",
              "    <tr>\n",
              "      <th>5</th>\n",
              "      <td>installment</td>\n",
              "      <td>10888.976562</td>\n",
              "      <td>0.274237</td>\n",
              "      <td>0.046308</td>\n",
              "    </tr>\n",
              "    <tr>\n",
              "      <th>6</th>\n",
              "      <td>total_pymnt_inv</td>\n",
              "      <td>10782.711914</td>\n",
              "      <td>0.271561</td>\n",
              "      <td>0.045856</td>\n",
              "    </tr>\n",
              "    <tr>\n",
              "      <th>7</th>\n",
              "      <td>tot_cur_bal</td>\n",
              "      <td>9832.043945</td>\n",
              "      <td>0.247618</td>\n",
              "      <td>0.041813</td>\n",
              "    </tr>\n",
              "    <tr>\n",
              "      <th>8</th>\n",
              "      <td>funded_amnt_inv</td>\n",
              "      <td>7983.657715</td>\n",
              "      <td>0.201067</td>\n",
              "      <td>0.033953</td>\n",
              "    </tr>\n",
              "    <tr>\n",
              "      <th>9</th>\n",
              "      <td>total_rev_hi_lim</td>\n",
              "      <td>7440.186035</td>\n",
              "      <td>0.187380</td>\n",
              "      <td>0.031641</td>\n",
              "    </tr>\n",
              "    <tr>\n",
              "      <th>10</th>\n",
              "      <td>loan_amnt</td>\n",
              "      <td>6974.504883</td>\n",
              "      <td>0.175652</td>\n",
              "      <td>0.029661</td>\n",
              "    </tr>\n",
              "    <tr>\n",
              "      <th>11</th>\n",
              "      <td>total_pymnt</td>\n",
              "      <td>4661.231934</td>\n",
              "      <td>0.117392</td>\n",
              "      <td>0.019823</td>\n",
              "    </tr>\n",
              "    <tr>\n",
              "      <th>12</th>\n",
              "      <td>term.36 months</td>\n",
              "      <td>4265.022949</td>\n",
              "      <td>0.107414</td>\n",
              "      <td>0.018138</td>\n",
              "    </tr>\n",
              "    <tr>\n",
              "      <th>13</th>\n",
              "      <td>int_rate</td>\n",
              "      <td>3233.352051</td>\n",
              "      <td>0.081431</td>\n",
              "      <td>0.013751</td>\n",
              "    </tr>\n",
              "    <tr>\n",
              "      <th>14</th>\n",
              "      <td>total_rec_int</td>\n",
              "      <td>2514.005127</td>\n",
              "      <td>0.063315</td>\n",
              "      <td>0.010691</td>\n",
              "    </tr>\n",
              "    <tr>\n",
              "      <th>15</th>\n",
              "      <td>inq_last_6mths</td>\n",
              "      <td>1717.337402</td>\n",
              "      <td>0.043251</td>\n",
              "      <td>0.007303</td>\n",
              "    </tr>\n",
              "    <tr>\n",
              "      <th>16</th>\n",
              "      <td>term.60 months</td>\n",
              "      <td>1323.735107</td>\n",
              "      <td>0.033338</td>\n",
              "      <td>0.005630</td>\n",
              "    </tr>\n",
              "    <tr>\n",
              "      <th>17</th>\n",
              "      <td>revol_bal</td>\n",
              "      <td>1020.706726</td>\n",
              "      <td>0.025706</td>\n",
              "      <td>0.004341</td>\n",
              "    </tr>\n",
              "    <tr>\n",
              "      <th>18</th>\n",
              "      <td>initial_list_status.w</td>\n",
              "      <td>664.415283</td>\n",
              "      <td>0.016733</td>\n",
              "      <td>0.002826</td>\n",
              "    </tr>\n",
              "    <tr>\n",
              "      <th>19</th>\n",
              "      <td>dti</td>\n",
              "      <td>599.559631</td>\n",
              "      <td>0.015100</td>\n",
              "      <td>0.002550</td>\n",
              "    </tr>\n",
              "  </tbody>\n",
              "</table>\n",
              "</div>"
            ],
            "text/plain": [
              "                 variable  relative_importance  scaled_importance  percentage\n",
              "0             funded_amnt         39706.429688           1.000000    0.168862\n",
              "1         total_rec_prncp         35257.453125           0.887953    0.149941\n",
              "2         last_pymnt_amnt         28465.099609           0.716889    0.121055\n",
              "3           out_prncp_inv         26987.607422           0.679679    0.114772\n",
              "4               out_prncp         25885.820312           0.651930    0.110086\n",
              "5             installment         10888.976562           0.274237    0.046308\n",
              "6         total_pymnt_inv         10782.711914           0.271561    0.045856\n",
              "7             tot_cur_bal          9832.043945           0.247618    0.041813\n",
              "8         funded_amnt_inv          7983.657715           0.201067    0.033953\n",
              "9        total_rev_hi_lim          7440.186035           0.187380    0.031641\n",
              "10              loan_amnt          6974.504883           0.175652    0.029661\n",
              "11            total_pymnt          4661.231934           0.117392    0.019823\n",
              "12         term.36 months          4265.022949           0.107414    0.018138\n",
              "13               int_rate          3233.352051           0.081431    0.013751\n",
              "14          total_rec_int          2514.005127           0.063315    0.010691\n",
              "15         inq_last_6mths          1717.337402           0.043251    0.007303\n",
              "16         term.60 months          1323.735107           0.033338    0.005630\n",
              "17              revol_bal          1020.706726           0.025706    0.004341\n",
              "18  initial_list_status.w           664.415283           0.016733    0.002826\n",
              "19                    dti           599.559631           0.015100    0.002550"
            ]
          },
          "metadata": {
            "tags": []
          }
        },
        {
          "output_type": "stream",
          "text": [
            "\n",
            "See the whole table with table.as_data_frame()\n"
          ],
          "name": "stdout"
        },
        {
          "output_type": "execute_result",
          "data": {
            "text/plain": [
              ""
            ]
          },
          "metadata": {
            "tags": []
          },
          "execution_count": 73
        }
      ]
    },
    {
      "cell_type": "code",
      "metadata": {
        "id": "NSh-5lGYV95t",
        "colab_type": "code",
        "colab": {
          "base_uri": "https://localhost:8080/",
          "height": 176
        },
        "outputId": "e90b2c82-6f8e-4161-ecad-b4311fa2b538"
      },
      "source": [
        "aml.leader.confusion_matrix()"
      ],
      "execution_count": null,
      "outputs": [
        {
          "output_type": "stream",
          "text": [
            "\n",
            "Confusion Matrix (Act/Pred) for max f1 @ threshold = 0.6953888963907957: \n"
          ],
          "name": "stdout"
        },
        {
          "output_type": "display_data",
          "data": {
            "text/html": [
              "<div>\n",
              "<style scoped>\n",
              "    .dataframe tbody tr th:only-of-type {\n",
              "        vertical-align: middle;\n",
              "    }\n",
              "\n",
              "    .dataframe tbody tr th {\n",
              "        vertical-align: top;\n",
              "    }\n",
              "\n",
              "    .dataframe thead th {\n",
              "        text-align: right;\n",
              "    }\n",
              "</style>\n",
              "<table border=\"1\" class=\"dataframe\">\n",
              "  <thead>\n",
              "    <tr style=\"text-align: right;\">\n",
              "      <th></th>\n",
              "      <th></th>\n",
              "      <th>0</th>\n",
              "      <th>1</th>\n",
              "      <th>Error</th>\n",
              "      <th>Rate</th>\n",
              "    </tr>\n",
              "  </thead>\n",
              "  <tbody>\n",
              "    <tr>\n",
              "      <th>0</th>\n",
              "      <td>0</td>\n",
              "      <td>29210.0</td>\n",
              "      <td>4623.0</td>\n",
              "      <td>0.1366</td>\n",
              "      <td>(4623.0/33833.0)</td>\n",
              "    </tr>\n",
              "    <tr>\n",
              "      <th>1</th>\n",
              "      <td>1</td>\n",
              "      <td>407.0</td>\n",
              "      <td>258647.0</td>\n",
              "      <td>0.0016</td>\n",
              "      <td>(407.0/259054.0)</td>\n",
              "    </tr>\n",
              "    <tr>\n",
              "      <th>2</th>\n",
              "      <td>Total</td>\n",
              "      <td>29617.0</td>\n",
              "      <td>263270.0</td>\n",
              "      <td>0.0172</td>\n",
              "      <td>(5030.0/292887.0)</td>\n",
              "    </tr>\n",
              "  </tbody>\n",
              "</table>\n",
              "</div>"
            ],
            "text/plain": [
              "                0         1   Error                Rate\n",
              "0      0  29210.0    4623.0  0.1366    (4623.0/33833.0)\n",
              "1      1    407.0  258647.0  0.0016    (407.0/259054.0)\n",
              "2  Total  29617.0  263270.0  0.0172   (5030.0/292887.0)"
            ]
          },
          "metadata": {
            "tags": []
          }
        },
        {
          "output_type": "execute_result",
          "data": {
            "text/plain": [
              ""
            ]
          },
          "metadata": {
            "tags": []
          },
          "execution_count": 66
        }
      ]
    },
    {
      "cell_type": "code",
      "metadata": {
        "id": "MvGDiFEaX6vs",
        "colab_type": "code",
        "colab": {
          "base_uri": "https://localhost:8080/",
          "height": 34
        },
        "outputId": "347ee44d-f404-4dd4-8f98-fec93ea782b0"
      },
      "source": [
        "accuracy = 29"
      ],
      "execution_count": null,
      "outputs": [
        {
          "output_type": "execute_result",
          "data": {
            "text/plain": [
              "[[0.6430084705352783, 0.9815760488635226]]"
            ]
          },
          "metadata": {
            "tags": []
          },
          "execution_count": 69
        }
      ]
    },
    {
      "cell_type": "code",
      "metadata": {
        "id": "DUm7-L2WYpRB",
        "colab_type": "code",
        "colab": {
          "base_uri": "https://localhost:8080/",
          "height": 35
        },
        "outputId": "70235bcc-d6cb-454e-e4e6-1035b255b6b7"
      },
      "source": [
        "h2o.save_model(aml.leader, path=\"/content/drive/My Drive/Colab Notebooks/Credit Risk Modeling/h2o_aml\")"
      ],
      "execution_count": null,
      "outputs": [
        {
          "output_type": "execute_result",
          "data": {
            "application/vnd.google.colaboratory.intrinsic+json": {
              "type": "string"
            },
            "text/plain": [
              "'/content/drive/My Drive/Colab Notebooks/Credit Risk Modeling/h2o_aml/XGBoost_grid__1_AutoML_20200828_134456_model_1'"
            ]
          },
          "metadata": {
            "tags": []
          },
          "execution_count": 71
        }
      ]
    },
    {
      "cell_type": "code",
      "metadata": {
        "id": "WwiuUUEWZeL7",
        "colab_type": "code",
        "colab": {
          "base_uri": "https://localhost:8080/",
          "height": 34
        },
        "outputId": "0bf3c985-bc16-480c-b8c9-b31331fb64f3"
      },
      "source": [
        "predictions = aml.predict(df_test)"
      ],
      "execution_count": null,
      "outputs": [
        {
          "output_type": "stream",
          "text": [
            "xgboost prediction progress: |████████████████████████████████████████████| 100%\n"
          ],
          "name": "stdout"
        }
      ]
    },
    {
      "cell_type": "code",
      "metadata": {
        "id": "A2bHSqBvcemP",
        "colab_type": "code",
        "colab": {}
      },
      "source": [
        "import numpy as np\n",
        "import pandas as pd"
      ],
      "execution_count": 12,
      "outputs": []
    },
    {
      "cell_type": "code",
      "metadata": {
        "id": "9lRBcdIKcgOR",
        "colab_type": "code",
        "colab": {
          "base_uri": "https://localhost:8080/",
          "height": 34
        },
        "outputId": "18765baa-5ebf-478f-b363-467c2943f158"
      },
      "source": [
        "type(predictions)"
      ],
      "execution_count": null,
      "outputs": [
        {
          "output_type": "execute_result",
          "data": {
            "text/plain": [
              "h2o.frame.H2OFrame"
            ]
          },
          "metadata": {
            "tags": []
          },
          "execution_count": 84
        }
      ]
    },
    {
      "cell_type": "code",
      "metadata": {
        "id": "JDkW8oAsc2ss",
        "colab_type": "code",
        "colab": {}
      },
      "source": [
        "pred = pd.DataFrame(predictions.as_data_frame())"
      ],
      "execution_count": null,
      "outputs": []
    },
    {
      "cell_type": "code",
      "metadata": {
        "id": "_8dkp-FhdZVG",
        "colab_type": "code",
        "colab": {}
      },
      "source": [
        "actual = df_test[y].as_data_frame()"
      ],
      "execution_count": null,
      "outputs": []
    },
    {
      "cell_type": "code",
      "metadata": {
        "id": "7-RJJY89eHCO",
        "colab_type": "code",
        "colab": {
          "base_uri": "https://localhost:8080/",
          "height": 34
        },
        "outputId": "f658028a-17a2-4237-fd75-856d6b54e59b"
      },
      "source": [
        "np.mean(actual.iloc[:,0] == pred.iloc[:,0]) #Accuracy score"
      ],
      "execution_count": null,
      "outputs": [
        {
          "output_type": "execute_result",
          "data": {
            "text/plain": [
              "0.9806437829369036"
            ]
          },
          "metadata": {
            "tags": []
          },
          "execution_count": 98
        }
      ]
    },
    {
      "cell_type": "code",
      "metadata": {
        "id": "sV0CbYN4eH-j",
        "colab_type": "code",
        "colab": {}
      },
      "source": [
        "#Now we load saved model\n",
        "model = h2o.load_model(\"/content/drive/My Drive/Colab Notebooks/Credit Risk Modeling/h2o_aml/XGBoost_grid__1_AutoML_20200828_134456_model_1\")"
      ],
      "execution_count": 3,
      "outputs": []
    },
    {
      "cell_type": "code",
      "metadata": {
        "id": "lpxYkVdE9cUo",
        "colab_type": "code",
        "colab": {
          "base_uri": "https://localhost:8080/",
          "height": 34
        },
        "outputId": "de07776f-d0b3-45cf-855e-97d3a0d0a4d3"
      },
      "source": [
        "aml = model\n",
        "predictions = aml.predict(df_test)\n",
        "pred = pd.DataFrame(predictions.as_data_frame())\n",
        "actual = df_test[y].as_data_frame()"
      ],
      "execution_count": 13,
      "outputs": [
        {
          "output_type": "stream",
          "text": [
            "xgboost prediction progress: |████████████████████████████████████████████| 100%\n"
          ],
          "name": "stdout"
        }
      ]
    },
    {
      "cell_type": "code",
      "metadata": {
        "id": "JN-1MQlo9plR",
        "colab_type": "code",
        "colab": {}
      },
      "source": [
        "from sklearn.metrics import confusion_matrix, classification_report"
      ],
      "execution_count": 14,
      "outputs": []
    },
    {
      "cell_type": "code",
      "metadata": {
        "id": "iaW66vur-Gkz",
        "colab_type": "code",
        "colab": {
          "base_uri": "https://localhost:8080/",
          "height": 51
        },
        "outputId": "8cc4d58c-c34b-4f7e-c35f-a04bb5f3aaf7"
      },
      "source": [
        "confusion_matrix(\n",
        "    actual.iloc[:,0],\n",
        "    pred.iloc[:,0]\n",
        ")"
      ],
      "execution_count": 15,
      "outputs": [
        {
          "output_type": "execute_result",
          "data": {
            "text/plain": [
              "array([[ 6866,  1165],\n",
              "       [   68, 61787]])"
            ]
          },
          "metadata": {
            "tags": []
          },
          "execution_count": 15
        }
      ]
    },
    {
      "cell_type": "code",
      "metadata": {
        "id": "CWGzAxXF-ODZ",
        "colab_type": "code",
        "colab": {
          "base_uri": "https://localhost:8080/",
          "height": 170
        },
        "outputId": "53fe180c-3b63-4b6b-9fbb-f640ff3a43af"
      },
      "source": [
        "print(classification_report(\n",
        "    actual.iloc[:,0],\n",
        "    pred.iloc[:,0]\n",
        "))"
      ],
      "execution_count": 16,
      "outputs": [
        {
          "output_type": "stream",
          "text": [
            "              precision    recall  f1-score   support\n",
            "\n",
            "           0       0.99      0.85      0.92      8031\n",
            "           1       0.98      1.00      0.99     61855\n",
            "\n",
            "    accuracy                           0.98     69886\n",
            "   macro avg       0.99      0.93      0.95     69886\n",
            "weighted avg       0.98      0.98      0.98     69886\n",
            "\n"
          ],
          "name": "stdout"
        }
      ]
    },
    {
      "cell_type": "code",
      "metadata": {
        "id": "33gc430P-YjB",
        "colab_type": "code",
        "colab": {}
      },
      "source": [
        "from sklearn.metrics import plot_roc_curve, auc, roc_auc_score"
      ],
      "execution_count": 28,
      "outputs": []
    },
    {
      "cell_type": "code",
      "metadata": {
        "id": "NGYFcsJS-zjO",
        "colab_type": "code",
        "colab": {}
      },
      "source": [
        "x_test = pd.DataFrame(df_test.as_data_frame()).drop(['C1', 'loan_status'], axis=1)"
      ],
      "execution_count": 23,
      "outputs": []
    },
    {
      "cell_type": "code",
      "metadata": {
        "id": "nSgDXf3QAAIr",
        "colab_type": "code",
        "colab": {
          "base_uri": "https://localhost:8080/",
          "height": 34
        },
        "outputId": "a33a5332-22d0-4ef9-8cab-693497d80908"
      },
      "source": [
        "x_test.shape"
      ],
      "execution_count": 24,
      "outputs": [
        {
          "output_type": "execute_result",
          "data": {
            "text/plain": [
              "(69886, 135)"
            ]
          },
          "metadata": {
            "tags": []
          },
          "execution_count": 24
        }
      ]
    },
    {
      "cell_type": "code",
      "metadata": {
        "id": "VvbWZ91RAZR3",
        "colab_type": "code",
        "colab": {
          "base_uri": "https://localhost:8080/",
          "height": 34
        },
        "outputId": "fbda25aa-8537-4e21-c4b0-ae98206faae2"
      },
      "source": [
        "pred.shape"
      ],
      "execution_count": 25,
      "outputs": [
        {
          "output_type": "execute_result",
          "data": {
            "text/plain": [
              "(69886, 3)"
            ]
          },
          "metadata": {
            "tags": []
          },
          "execution_count": 25
        }
      ]
    },
    {
      "cell_type": "code",
      "metadata": {
        "id": "YWqTqFQIAiu1",
        "colab_type": "code",
        "colab": {
          "base_uri": "https://localhost:8080/",
          "height": 34
        },
        "outputId": "e40abd4c-7e9d-4bfd-9161-64767409da32"
      },
      "source": [
        "roc_auc_score(\n",
        "    actual.iloc[:,0],\n",
        "    pred.iloc[:,0]\n",
        ") #AUC score"
      ],
      "execution_count": 29,
      "outputs": [
        {
          "output_type": "execute_result",
          "data": {
            "text/plain": [
              "0.9269188867111329"
            ]
          },
          "metadata": {
            "tags": []
          },
          "execution_count": 29
        }
      ]
    },
    {
      "cell_type": "code",
      "metadata": {
        "id": "9VZnstyDA3pu",
        "colab_type": "code",
        "colab": {}
      },
      "source": [
        ""
      ],
      "execution_count": null,
      "outputs": []
    }
  ]
}