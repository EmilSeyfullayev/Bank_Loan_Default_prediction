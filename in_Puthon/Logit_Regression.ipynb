{
  "nbformat": 4,
  "nbformat_minor": 0,
  "metadata": {
    "colab": {
      "name": "Logit_Regression.ipynb",
      "provenance": [],
      "collapsed_sections": [],
      "mount_file_id": "1iXqEAkPunmor2dbwTrX-xJJ2PkTtTJSz",
      "authorship_tag": "ABX9TyO+hB6qsDoFT9caJf42jMKv",
      "include_colab_link": true
    },
    "kernelspec": {
      "name": "python3",
      "display_name": "Python 3"
    }
  },
  "cells": [
    {
      "cell_type": "markdown",
      "metadata": {
        "id": "view-in-github",
        "colab_type": "text"
      },
      "source": [
        "<a href=\"https://colab.research.google.com/github/EmilSeyfullayev/Bank_Loan_Default_prediction/blob/master/in_Puthon/Logit_Regression.ipynb\" target=\"_parent\"><img src=\"https://colab.research.google.com/assets/colab-badge.svg\" alt=\"Open In Colab\"/></a>"
      ]
    },
    {
      "cell_type": "code",
      "metadata": {
        "id": "JHIm95TDP_NY",
        "colab_type": "code",
        "colab": {
          "base_uri": "https://localhost:8080/",
          "height": 70
        },
        "outputId": "7b6895f3-3cac-41c1-83e6-f80308475818"
      },
      "source": [
        "import pandas as pd\n",
        "import numpy as np\n",
        "import matplotlib.pyplot as plt\n",
        "import seaborn as sns\n",
        "import statsmodels.api as sm\n",
        "sns.set()"
      ],
      "execution_count": 1,
      "outputs": [
        {
          "output_type": "stream",
          "text": [
            "/usr/local/lib/python3.6/dist-packages/statsmodels/tools/_testing.py:19: FutureWarning: pandas.util.testing is deprecated. Use the functions in the public API at pandas.testing instead.\n",
            "  import pandas.util.testing as tm\n"
          ],
          "name": "stderr"
        }
      ]
    },
    {
      "cell_type": "code",
      "metadata": {
        "id": "qMn602jplCqQ",
        "colab_type": "code",
        "colab": {}
      },
      "source": [
        "df= pd.read_csv('/content/drive/My Drive/Colab Notebooks/Credit Risk Modeling/df_vif_p_1000.csv')"
      ],
      "execution_count": 41,
      "outputs": []
    },
    {
      "cell_type": "code",
      "metadata": {
        "id": "ljTRZ_2bqTQR",
        "colab_type": "code",
        "colab": {
          "base_uri": "https://localhost:8080/",
          "height": 33
        },
        "outputId": "c106abb2-59b7-46a7-ed44-94c2db63f270"
      },
      "source": [
        "df.shape"
      ],
      "execution_count": 45,
      "outputs": [
        {
          "output_type": "execute_result",
          "data": {
            "text/plain": [
              "(10000, 36)"
            ]
          },
          "metadata": {
            "tags": []
          },
          "execution_count": 45
        }
      ]
    },
    {
      "cell_type": "code",
      "metadata": {
        "id": "4RMXimbFqmen",
        "colab_type": "code",
        "colab": {}
      },
      "source": [
        "df.drop(['Unnamed: 0'], axis=1, inplace=True)"
      ],
      "execution_count": 47,
      "outputs": []
    },
    {
      "cell_type": "code",
      "metadata": {
        "id": "ZlQsqOGclEEN",
        "colab_type": "code",
        "colab": {}
      },
      "source": [
        "#df = df.sample(200)\n",
        "from sklearn.model_selection import train_test_split\n",
        "y = df['loan_status']\n",
        "X1 = df.drop(['loan_status'], axis=1)\n",
        "X = sm.add_constant(X1)\n",
        "X_train, X_test, y_train, y_test = train_test_split(X, y, test_size=0.33, random_state=42)"
      ],
      "execution_count": 48,
      "outputs": []
    },
    {
      "cell_type": "code",
      "metadata": {
        "id": "e3UZgbJOldb6",
        "colab_type": "code",
        "colab": {
          "base_uri": "https://localhost:8080/",
          "height": 66
        },
        "outputId": "d15fa304-2c38-4a4a-e647-79e6f0fb6108"
      },
      "source": [
        "lgt = sm.Logit(y, X).fit()"
      ],
      "execution_count": 53,
      "outputs": [
        {
          "output_type": "stream",
          "text": [
            "Optimization terminated successfully.\n",
            "         Current function value: 0.562539\n",
            "         Iterations 6\n"
          ],
          "name": "stdout"
        }
      ]
    },
    {
      "cell_type": "code",
      "metadata": {
        "id": "QzQr2tcAnLm-",
        "colab_type": "code",
        "colab": {
          "base_uri": "https://localhost:8080/",
          "height": 816
        },
        "outputId": "f7813bae-796a-406e-c516-d9076dc2364c"
      },
      "source": [
        "print(lgt.summary())"
      ],
      "execution_count": 54,
      "outputs": [
        {
          "output_type": "stream",
          "text": [
            "                           Logit Regression Results                           \n",
            "==============================================================================\n",
            "Dep. Variable:            loan_status   No. Observations:                10000\n",
            "Model:                          Logit   Df Residuals:                     9965\n",
            "Method:                           MLE   Df Model:                           34\n",
            "Date:                Fri, 04 Sep 2020   Pseudo R-squ.:                  0.1884\n",
            "Time:                        10:33:20   Log-Likelihood:                -5625.4\n",
            "converged:                       True   LL-Null:                       -6931.5\n",
            "Covariance Type:            nonrobust   LLR p-value:                     0.000\n",
            "==========================================================================================\n",
            "                             coef    std err          z      P>|z|      [0.025      0.975]\n",
            "------------------------------------------------------------------------------------------\n",
            "const                     -0.5576      0.116     -4.822      0.000      -0.784      -0.331\n",
            "tot_cur_bal             1.725e-06   2.42e-07      7.117      0.000    1.25e-06     2.2e-06\n",
            "total_rev_hi_lim        5.999e-06   1.82e-06      3.299      0.001    2.43e-06    9.56e-06\n",
            "term_60_months            -0.4428      0.057     -7.735      0.000      -0.555      -0.331\n",
            "sub_grade_A3               1.0301      0.196      5.249      0.000       0.645       1.415\n",
            "sub_grade_A2               0.9394      0.213      4.413      0.000       0.522       1.357\n",
            "open_acc                  -0.0194      0.006     -3.486      0.000      -0.030      -0.009\n",
            "sub_grade_A4               0.8430      0.142      5.936      0.000       0.565       1.121\n",
            "sub_grade_E4              -0.5958      0.184     -3.238      0.001      -0.956      -0.235\n",
            "addr_state_VA             -0.4943      0.136     -3.639      0.000      -0.761      -0.228\n",
            "sub_grade_B1               0.7416      0.129      5.762      0.000       0.489       0.994\n",
            "sub_grade_B2               0.5448      0.113      4.803      0.000       0.323       0.767\n",
            "sub_grade_A5               0.5673      0.126      4.494      0.000       0.320       0.815\n",
            "revol_util                -0.0052      0.001     -4.878      0.000      -0.007      -0.003\n",
            "sub_grade_B4               0.2060      0.098      2.113      0.035       0.015       0.397\n",
            "sub_grade_B3               0.2256      0.101      2.243      0.025       0.028       0.423\n",
            "sub_grade_D2              -0.4391      0.120     -3.652      0.000      -0.675      -0.203\n",
            "out_prncp                  1.9685      0.051     38.336      0.000       1.868       2.069\n",
            "sub_grade_F1              -0.6499      0.231     -2.810      0.005      -1.103      -0.197\n",
            "sub_grade_F2              -0.5099      0.238     -2.147      0.032      -0.975      -0.044\n",
            "sub_grade_E1              -0.5114      0.154     -3.324      0.001      -0.813      -0.210\n",
            "addr_state_AL             -0.5464      0.221     -2.475      0.013      -0.979      -0.114\n",
            "sub_grade_E2              -0.5604      0.158     -3.541      0.000      -0.871      -0.250\n",
            "sub_grade_D3              -0.2891      0.121     -2.395      0.017      -0.526      -0.052\n",
            "sub_grade_D4              -0.3450      0.127     -2.724      0.006      -0.593      -0.097\n",
            "sub_grade_C2               0.2303      0.101      2.283      0.022       0.033       0.428\n",
            "sub_grade_E3              -0.3780      0.168     -2.257      0.024      -0.706      -0.050\n",
            "Months_past_first_cr       0.0006      0.000      2.163      0.031    6.08e-05       0.001\n",
            "sub_grade_F3              -0.4808      0.239     -2.009      0.045      -0.950      -0.012\n",
            "addr_state_OK             -0.8399      0.261     -3.222      0.001      -1.351      -0.329\n",
            "inq_last_6mths            -0.1748      0.026     -6.596      0.000      -0.227      -0.123\n",
            "purpose_credit_card        0.1397      0.059      2.374      0.018       0.024       0.255\n",
            "emp_length                 0.0207      0.006      3.302      0.001       0.008       0.033\n",
            "purpose_small_business    -0.3861      0.168     -2.304      0.021      -0.715      -0.058\n",
            "addr_state_MT              0.9995      0.457      2.188      0.029       0.104       1.895\n",
            "==========================================================================================\n"
          ],
          "name": "stdout"
        }
      ]
    },
    {
      "cell_type": "code",
      "metadata": {
        "id": "5BHklbuFq9_o",
        "colab_type": "code",
        "colab": {
          "base_uri": "https://localhost:8080/",
          "height": 50
        },
        "outputId": "75f4574c-19db-4d13-9f23-3477578cf6a4"
      },
      "source": [
        "lgt.pred_table()"
      ],
      "execution_count": 57,
      "outputs": [
        {
          "output_type": "execute_result",
          "data": {
            "text/plain": [
              "array([[3801., 1199.],\n",
              "       [1616., 3384.]])"
            ]
          },
          "metadata": {
            "tags": []
          },
          "execution_count": 57
        }
      ]
    },
    {
      "cell_type": "code",
      "metadata": {
        "id": "BX-6aNXmrdc6",
        "colab_type": "code",
        "colab": {}
      },
      "source": [
        "pred = lgt.predict(X_test)"
      ],
      "execution_count": 74,
      "outputs": []
    },
    {
      "cell_type": "code",
      "metadata": {
        "id": "wDwWR5jaslPN",
        "colab_type": "code",
        "colab": {}
      },
      "source": [
        "pred = np.where(pred>0.5, 1, 0)"
      ],
      "execution_count": 81,
      "outputs": []
    },
    {
      "cell_type": "code",
      "metadata": {
        "id": "X9h566lrsyoo",
        "colab_type": "code",
        "colab": {}
      },
      "source": [
        "result = pd.DataFrame()"
      ],
      "execution_count": 65,
      "outputs": []
    },
    {
      "cell_type": "code",
      "metadata": {
        "id": "2KQFjgmHtxEX",
        "colab_type": "code",
        "colab": {}
      },
      "source": [
        "result['Actual'] = y_test"
      ],
      "execution_count": 66,
      "outputs": []
    },
    {
      "cell_type": "code",
      "metadata": {
        "id": "ZJp9qBVkt6oa",
        "colab_type": "code",
        "colab": {}
      },
      "source": [
        "result['Predicted'] = pred"
      ],
      "execution_count": 82,
      "outputs": []
    },
    {
      "cell_type": "code",
      "metadata": {
        "id": "WlcRR_4Ft_UD",
        "colab_type": "code",
        "colab": {}
      },
      "source": [
        "from sklearn.metrics import accuracy_score, classification_report"
      ],
      "execution_count": 69,
      "outputs": []
    },
    {
      "cell_type": "code",
      "metadata": {
        "id": "ILU_CddAuAR7",
        "colab_type": "code",
        "colab": {
          "base_uri": "https://localhost:8080/",
          "height": 166
        },
        "outputId": "073e1164-9028-4a15-a57f-79c6bde5141e"
      },
      "source": [
        "print(classification_report(result['Actual'], result['Predicted']))\n",
        "#F1 score 0.66\n",
        "#Accuracy 0.71"
      ],
      "execution_count": 83,
      "outputs": [
        {
          "output_type": "stream",
          "text": [
            "              precision    recall  f1-score   support\n",
            "\n",
            "           0       0.67      0.85      0.75      1678\n",
            "           1       0.78      0.56      0.66      1622\n",
            "\n",
            "    accuracy                           0.71      3300\n",
            "   macro avg       0.73      0.71      0.70      3300\n",
            "weighted avg       0.72      0.71      0.70      3300\n",
            "\n"
          ],
          "name": "stdout"
        }
      ]
    },
    {
      "cell_type": "code",
      "metadata": {
        "id": "I54elrjUuRCj",
        "colab_type": "code",
        "colab": {}
      },
      "source": [
        "from sklearn.metrics import roc_auc_score"
      ],
      "execution_count": 85,
      "outputs": []
    },
    {
      "cell_type": "code",
      "metadata": {
        "id": "-c_WNpQDy0qN",
        "colab_type": "code",
        "colab": {
          "base_uri": "https://localhost:8080/",
          "height": 33
        },
        "outputId": "980c33ba-c1e6-4576-c1ec-460396919f2b"
      },
      "source": [
        "roc_auc_score(result['Actual'], result['Predicted'])"
      ],
      "execution_count": 86,
      "outputs": [
        {
          "output_type": "execute_result",
          "data": {
            "text/plain": [
              "0.7063532712450528"
            ]
          },
          "metadata": {
            "tags": []
          },
          "execution_count": 86
        }
      ]
    },
    {
      "cell_type": "code",
      "metadata": {
        "id": "3IUUgNbNy_u8",
        "colab_type": "code",
        "colab": {}
      },
      "source": [
        ""
      ],
      "execution_count": null,
      "outputs": []
    }
  ]
}